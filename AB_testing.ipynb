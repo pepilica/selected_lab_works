{
  "cells": [
    {
      "cell_type": "markdown",
      "metadata": {
        "id": "Q8Uvo8ShMd7E"
      },
      "source": [
        "# ДЗ 3. A/B-тестирование, ранговые критерии, бутстрэп\n",
        "\n",
        "Дедлайн: 19.12.2023 в 23:59"
      ]
    },
    {
      "cell_type": "markdown",
      "metadata": {
        "id": "wXZtYyZ8u-8K"
      },
      "source": [
        "Вот и наступило время решать заключительное ДЗ в рамках курса ПСМО! Что вам нужно будет сделать (вкратце):\n",
        "\n",
        "- Всё дз в рамках одного набора данных о рекламной платформе\n",
        "- Сначала необходимо выбрать правильное сплитование данных из 3 предложенных, на основании значения которой будет происходить A/B тест. Обосновать выбор, проверив необходимые предпосылки однородности А и В выборок с помощью ранговых критериев и изученного статистического аппарата (2 балла)\n",
        "- * Может приключиться такая ситуация, что выбранное сплитование не совсем подходит для проведения A/B, поэтому не поленитесь выбрать ту, для которой интерпретация каждого из ранговых критериев соответствует вашим исходным предположениям\n",
        "- Провести A/B тест и подвести итоги со всеми статистиками, использовать техники с семинара для повышения чувствительности/корректности А/В теста (3.5 балла)\n",
        "- Реализовать бутстрап как альтернативный метод проверки гипотеы, поставленной в А/В (3 балла)\n",
        "- Содержательные выводы по итогам работы, интерпретирующие результат с бизнесовой точки зрения, как минимум 3-4 предложения (1.5 балла)\n",
        "\n",
        "Бонусы!\n",
        "- +1 балл к дз, если до проведения основной части работы вы реализуете ЕМ-алгоритм для разделения смеси распределений (подсказка: смесей от 2 до 4)\n",
        "- +1 балл к дз, если реализуете CUPED в рамках анализа результатов А/В\n",
        "\n",
        "P.s. Кажется, если вы хорошо поняли крайние 3 темы курса, на решение ДЗ и интерпретацию результатов у вас уйдёт не больше 3-4 часов. Это дз больше про понимание и умение интерпретировать полученное, а не про фундаментальную математику"
      ]
    },
    {
      "cell_type": "markdown",
      "metadata": {},
      "source": [
        "### Мотивация: \n",
        "\n",
        "Принесёт ли изменение модели машинного обучения (логрег заменим на catboost) в сервисе ранжирования рекламных объявлений бОльшую конверсию просмотров объявления в клик?\n",
        "\n",
        "Считаем, что увеличение CTR будет свидетельством того, что мы получили большую конверсию в клик."
      ]
    },
    {
      "cell_type": "code",
      "execution_count": 5,
      "metadata": {
        "id": "7Ywsg6MXu2Ta"
      },
      "outputs": [],
      "source": [
        "import pandas as pd\n",
        "import numpy as np\n",
        "\n",
        "import plotly.express as px\n",
        "import plotly.graph_objects as go\n",
        "import matplotlib.pyplot as plt\n",
        "from statsmodels.stats.proportion import proportions_ztest\n",
        "import seaborn as sns\n",
        "from scipy import stats"
      ]
    },
    {
      "cell_type": "markdown",
      "metadata": {
        "id": "LGIgt_Vn3tp8"
      },
      "source": [
        "Что есть в датасете для выполнения домашки:\n",
        "* id - идентификатор пользователя\n",
        "* split_1 - вариант сплитования 1\n",
        "* split_2 - вариант сплитования 2\n",
        "* split_3 - вариант сплитования 3\n",
        "* is_teenager - меньше ли 25 лет пользователю\n",
        "* num_segments - количество сегментов интересов [футбол, баскетбол, киберспорт, etc.] у пользователя\n",
        "* views - просмотры рекламы в рамках проведённого эксперимента\n",
        "* clicks - клики по рекламе в рамках проведённого эксперимента\n",
        "* CTR - views / clicks"
      ]
    },
    {
      "cell_type": "code",
      "execution_count": 6,
      "metadata": {
        "colab": {
          "base_uri": "https://localhost:8080/",
          "height": 424
        },
        "id": "-7kFJU8tVMGw",
        "outputId": "f8219124-addb-4e29-a4eb-f2cfbf6c2f21"
      },
      "outputs": [
        {
          "data": {
            "text/html": [
              "\n",
              "  <div id=\"df-1fecf948-5576-4c97-8996-87f1da52ff43\" class=\"colab-df-container\">\n",
              "    <div>\n",
              "<style scoped>\n",
              "    .dataframe tbody tr th:only-of-type {\n",
              "        vertical-align: middle;\n",
              "    }\n",
              "\n",
              "    .dataframe tbody tr th {\n",
              "        vertical-align: top;\n",
              "    }\n",
              "\n",
              "    .dataframe thead th {\n",
              "        text-align: right;\n",
              "    }\n",
              "</style>\n",
              "<table border=\"1\" class=\"dataframe\">\n",
              "  <thead>\n",
              "    <tr style=\"text-align: right;\">\n",
              "      <th></th>\n",
              "      <th>id</th>\n",
              "      <th>split_1</th>\n",
              "      <th>split_2</th>\n",
              "      <th>split_3</th>\n",
              "      <th>is_teenager</th>\n",
              "      <th>num_segments</th>\n",
              "      <th>views</th>\n",
              "      <th>clicks</th>\n",
              "      <th>ctr</th>\n",
              "    </tr>\n",
              "  </thead>\n",
              "  <tbody>\n",
              "    <tr>\n",
              "      <th>0</th>\n",
              "      <td>0</td>\n",
              "      <td>A</td>\n",
              "      <td>B</td>\n",
              "      <td>A</td>\n",
              "      <td>0</td>\n",
              "      <td>15</td>\n",
              "      <td>62</td>\n",
              "      <td>3</td>\n",
              "      <td>0.048387</td>\n",
              "    </tr>\n",
              "    <tr>\n",
              "      <th>1</th>\n",
              "      <td>1</td>\n",
              "      <td>A</td>\n",
              "      <td>B</td>\n",
              "      <td>B</td>\n",
              "      <td>0</td>\n",
              "      <td>4</td>\n",
              "      <td>5</td>\n",
              "      <td>0</td>\n",
              "      <td>0.000000</td>\n",
              "    </tr>\n",
              "    <tr>\n",
              "      <th>2</th>\n",
              "      <td>2</td>\n",
              "      <td>B</td>\n",
              "      <td>A</td>\n",
              "      <td>B</td>\n",
              "      <td>1</td>\n",
              "      <td>14</td>\n",
              "      <td>47</td>\n",
              "      <td>1</td>\n",
              "      <td>0.021277</td>\n",
              "    </tr>\n",
              "    <tr>\n",
              "      <th>3</th>\n",
              "      <td>3</td>\n",
              "      <td>B</td>\n",
              "      <td>A</td>\n",
              "      <td>B</td>\n",
              "      <td>1</td>\n",
              "      <td>2</td>\n",
              "      <td>3</td>\n",
              "      <td>0</td>\n",
              "      <td>0.000000</td>\n",
              "    </tr>\n",
              "    <tr>\n",
              "      <th>4</th>\n",
              "      <td>4</td>\n",
              "      <td>B</td>\n",
              "      <td>A</td>\n",
              "      <td>B</td>\n",
              "      <td>0</td>\n",
              "      <td>11</td>\n",
              "      <td>50</td>\n",
              "      <td>0</td>\n",
              "      <td>0.000000</td>\n",
              "    </tr>\n",
              "    <tr>\n",
              "      <th>...</th>\n",
              "      <td>...</td>\n",
              "      <td>...</td>\n",
              "      <td>...</td>\n",
              "      <td>...</td>\n",
              "      <td>...</td>\n",
              "      <td>...</td>\n",
              "      <td>...</td>\n",
              "      <td>...</td>\n",
              "      <td>...</td>\n",
              "    </tr>\n",
              "    <tr>\n",
              "      <th>19995</th>\n",
              "      <td>19995</td>\n",
              "      <td>B</td>\n",
              "      <td>A</td>\n",
              "      <td>A</td>\n",
              "      <td>1</td>\n",
              "      <td>4</td>\n",
              "      <td>5</td>\n",
              "      <td>0</td>\n",
              "      <td>0.000000</td>\n",
              "    </tr>\n",
              "    <tr>\n",
              "      <th>19996</th>\n",
              "      <td>19996</td>\n",
              "      <td>B</td>\n",
              "      <td>A</td>\n",
              "      <td>B</td>\n",
              "      <td>1</td>\n",
              "      <td>2</td>\n",
              "      <td>7</td>\n",
              "      <td>0</td>\n",
              "      <td>0.000000</td>\n",
              "    </tr>\n",
              "    <tr>\n",
              "      <th>19997</th>\n",
              "      <td>19997</td>\n",
              "      <td>A</td>\n",
              "      <td>B</td>\n",
              "      <td>A</td>\n",
              "      <td>0</td>\n",
              "      <td>6</td>\n",
              "      <td>22</td>\n",
              "      <td>5</td>\n",
              "      <td>0.227273</td>\n",
              "    </tr>\n",
              "    <tr>\n",
              "      <th>19998</th>\n",
              "      <td>19998</td>\n",
              "      <td>A</td>\n",
              "      <td>A</td>\n",
              "      <td>B</td>\n",
              "      <td>0</td>\n",
              "      <td>10</td>\n",
              "      <td>52</td>\n",
              "      <td>0</td>\n",
              "      <td>0.000000</td>\n",
              "    </tr>\n",
              "    <tr>\n",
              "      <th>19999</th>\n",
              "      <td>19999</td>\n",
              "      <td>B</td>\n",
              "      <td>B</td>\n",
              "      <td>A</td>\n",
              "      <td>1</td>\n",
              "      <td>9</td>\n",
              "      <td>53</td>\n",
              "      <td>0</td>\n",
              "      <td>0.000000</td>\n",
              "    </tr>\n",
              "  </tbody>\n",
              "</table>\n",
              "<p>20000 rows × 9 columns</p>\n",
              "</div>\n",
              "    <div class=\"colab-df-buttons\">\n",
              "\n",
              "  <div class=\"colab-df-container\">\n",
              "    <button class=\"colab-df-convert\" onclick=\"convertToInteractive('df-1fecf948-5576-4c97-8996-87f1da52ff43')\"\n",
              "            title=\"Convert this dataframe to an interactive table.\"\n",
              "            style=\"display:none;\">\n",
              "\n",
              "  <svg xmlns=\"http://www.w3.org/2000/svg\" height=\"24px\" viewBox=\"0 -960 960 960\">\n",
              "    <path d=\"M120-120v-720h720v720H120Zm60-500h600v-160H180v160Zm220 220h160v-160H400v160Zm0 220h160v-160H400v160ZM180-400h160v-160H180v160Zm440 0h160v-160H620v160ZM180-180h160v-160H180v160Zm440 0h160v-160H620v160Z\"/>\n",
              "  </svg>\n",
              "    </button>\n",
              "\n",
              "  <style>\n",
              "    .colab-df-container {\n",
              "      display:flex;\n",
              "      gap: 12px;\n",
              "    }\n",
              "\n",
              "    .colab-df-convert {\n",
              "      background-color: #E8F0FE;\n",
              "      border: none;\n",
              "      border-radius: 50%;\n",
              "      cursor: pointer;\n",
              "      display: none;\n",
              "      fill: #1967D2;\n",
              "      height: 32px;\n",
              "      padding: 0 0 0 0;\n",
              "      width: 32px;\n",
              "    }\n",
              "\n",
              "    .colab-df-convert:hover {\n",
              "      background-color: #E2EBFA;\n",
              "      box-shadow: 0px 1px 2px rgba(60, 64, 67, 0.3), 0px 1px 3px 1px rgba(60, 64, 67, 0.15);\n",
              "      fill: #174EA6;\n",
              "    }\n",
              "\n",
              "    .colab-df-buttons div {\n",
              "      margin-bottom: 4px;\n",
              "    }\n",
              "\n",
              "    [theme=dark] .colab-df-convert {\n",
              "      background-color: #3B4455;\n",
              "      fill: #D2E3FC;\n",
              "    }\n",
              "\n",
              "    [theme=dark] .colab-df-convert:hover {\n",
              "      background-color: #434B5C;\n",
              "      box-shadow: 0px 1px 3px 1px rgba(0, 0, 0, 0.15);\n",
              "      filter: drop-shadow(0px 1px 2px rgba(0, 0, 0, 0.3));\n",
              "      fill: #FFFFFF;\n",
              "    }\n",
              "  </style>\n",
              "\n",
              "    <script>\n",
              "      const buttonEl =\n",
              "        document.querySelector('#df-1fecf948-5576-4c97-8996-87f1da52ff43 button.colab-df-convert');\n",
              "      buttonEl.style.display =\n",
              "        google.colab.kernel.accessAllowed ? 'block' : 'none';\n",
              "\n",
              "      async function convertToInteractive(key) {\n",
              "        const element = document.querySelector('#df-1fecf948-5576-4c97-8996-87f1da52ff43');\n",
              "        const dataTable =\n",
              "          await google.colab.kernel.invokeFunction('convertToInteractive',\n",
              "                                                    [key], {});\n",
              "        if (!dataTable) return;\n",
              "\n",
              "        const docLinkHtml = 'Like what you see? Visit the ' +\n",
              "          '<a target=\"_blank\" href=https://colab.research.google.com/notebooks/data_table.ipynb>data table notebook</a>'\n",
              "          + ' to learn more about interactive tables.';\n",
              "        element.innerHTML = '';\n",
              "        dataTable['output_type'] = 'display_data';\n",
              "        await google.colab.output.renderOutput(dataTable, element);\n",
              "        const docLink = document.createElement('div');\n",
              "        docLink.innerHTML = docLinkHtml;\n",
              "        element.appendChild(docLink);\n",
              "      }\n",
              "    </script>\n",
              "  </div>\n",
              "\n",
              "\n",
              "<div id=\"df-e57e3728-9c01-48d3-922f-963d52999a95\">\n",
              "  <button class=\"colab-df-quickchart\" onclick=\"quickchart('df-e57e3728-9c01-48d3-922f-963d52999a95')\"\n",
              "            title=\"Suggest charts\"\n",
              "            style=\"display:none;\">\n",
              "\n",
              "<svg xmlns=\"http://www.w3.org/2000/svg\" height=\"24px\"viewBox=\"0 0 24 24\"\n",
              "     width=\"24px\">\n",
              "    <g>\n",
              "        <path d=\"M19 3H5c-1.1 0-2 .9-2 2v14c0 1.1.9 2 2 2h14c1.1 0 2-.9 2-2V5c0-1.1-.9-2-2-2zM9 17H7v-7h2v7zm4 0h-2V7h2v10zm4 0h-2v-4h2v4z\"/>\n",
              "    </g>\n",
              "</svg>\n",
              "  </button>\n",
              "\n",
              "<style>\n",
              "  .colab-df-quickchart {\n",
              "      --bg-color: #E8F0FE;\n",
              "      --fill-color: #1967D2;\n",
              "      --hover-bg-color: #E2EBFA;\n",
              "      --hover-fill-color: #174EA6;\n",
              "      --disabled-fill-color: #AAA;\n",
              "      --disabled-bg-color: #DDD;\n",
              "  }\n",
              "\n",
              "  [theme=dark] .colab-df-quickchart {\n",
              "      --bg-color: #3B4455;\n",
              "      --fill-color: #D2E3FC;\n",
              "      --hover-bg-color: #434B5C;\n",
              "      --hover-fill-color: #FFFFFF;\n",
              "      --disabled-bg-color: #3B4455;\n",
              "      --disabled-fill-color: #666;\n",
              "  }\n",
              "\n",
              "  .colab-df-quickchart {\n",
              "    background-color: var(--bg-color);\n",
              "    border: none;\n",
              "    border-radius: 50%;\n",
              "    cursor: pointer;\n",
              "    display: none;\n",
              "    fill: var(--fill-color);\n",
              "    height: 32px;\n",
              "    padding: 0;\n",
              "    width: 32px;\n",
              "  }\n",
              "\n",
              "  .colab-df-quickchart:hover {\n",
              "    background-color: var(--hover-bg-color);\n",
              "    box-shadow: 0 1px 2px rgba(60, 64, 67, 0.3), 0 1px 3px 1px rgba(60, 64, 67, 0.15);\n",
              "    fill: var(--button-hover-fill-color);\n",
              "  }\n",
              "\n",
              "  .colab-df-quickchart-complete:disabled,\n",
              "  .colab-df-quickchart-complete:disabled:hover {\n",
              "    background-color: var(--disabled-bg-color);\n",
              "    fill: var(--disabled-fill-color);\n",
              "    box-shadow: none;\n",
              "  }\n",
              "\n",
              "  .colab-df-spinner {\n",
              "    border: 2px solid var(--fill-color);\n",
              "    border-color: transparent;\n",
              "    border-bottom-color: var(--fill-color);\n",
              "    animation:\n",
              "      spin 1s steps(1) infinite;\n",
              "  }\n",
              "\n",
              "  @keyframes spin {\n",
              "    0% {\n",
              "      border-color: transparent;\n",
              "      border-bottom-color: var(--fill-color);\n",
              "      border-left-color: var(--fill-color);\n",
              "    }\n",
              "    20% {\n",
              "      border-color: transparent;\n",
              "      border-left-color: var(--fill-color);\n",
              "      border-top-color: var(--fill-color);\n",
              "    }\n",
              "    30% {\n",
              "      border-color: transparent;\n",
              "      border-left-color: var(--fill-color);\n",
              "      border-top-color: var(--fill-color);\n",
              "      border-right-color: var(--fill-color);\n",
              "    }\n",
              "    40% {\n",
              "      border-color: transparent;\n",
              "      border-right-color: var(--fill-color);\n",
              "      border-top-color: var(--fill-color);\n",
              "    }\n",
              "    60% {\n",
              "      border-color: transparent;\n",
              "      border-right-color: var(--fill-color);\n",
              "    }\n",
              "    80% {\n",
              "      border-color: transparent;\n",
              "      border-right-color: var(--fill-color);\n",
              "      border-bottom-color: var(--fill-color);\n",
              "    }\n",
              "    90% {\n",
              "      border-color: transparent;\n",
              "      border-bottom-color: var(--fill-color);\n",
              "    }\n",
              "  }\n",
              "</style>\n",
              "\n",
              "  <script>\n",
              "    async function quickchart(key) {\n",
              "      const quickchartButtonEl =\n",
              "        document.querySelector('#' + key + ' button');\n",
              "      quickchartButtonEl.disabled = true;  // To prevent multiple clicks.\n",
              "      quickchartButtonEl.classList.add('colab-df-spinner');\n",
              "      try {\n",
              "        const charts = await google.colab.kernel.invokeFunction(\n",
              "            'suggestCharts', [key], {});\n",
              "      } catch (error) {\n",
              "        console.error('Error during call to suggestCharts:', error);\n",
              "      }\n",
              "      quickchartButtonEl.classList.remove('colab-df-spinner');\n",
              "      quickchartButtonEl.classList.add('colab-df-quickchart-complete');\n",
              "    }\n",
              "    (() => {\n",
              "      let quickchartButtonEl =\n",
              "        document.querySelector('#df-e57e3728-9c01-48d3-922f-963d52999a95 button');\n",
              "      quickchartButtonEl.style.display =\n",
              "        google.colab.kernel.accessAllowed ? 'block' : 'none';\n",
              "    })();\n",
              "  </script>\n",
              "</div>\n",
              "    </div>\n",
              "  </div>\n"
            ],
            "text/plain": [
              "          id split_1 split_2 split_3  is_teenager  num_segments  views  \\\n",
              "0          0       A       B       A            0            15     62   \n",
              "1          1       A       B       B            0             4      5   \n",
              "2          2       B       A       B            1            14     47   \n",
              "3          3       B       A       B            1             2      3   \n",
              "4          4       B       A       B            0            11     50   \n",
              "...      ...     ...     ...     ...          ...           ...    ...   \n",
              "19995  19995       B       A       A            1             4      5   \n",
              "19996  19996       B       A       B            1             2      7   \n",
              "19997  19997       A       B       A            0             6     22   \n",
              "19998  19998       A       A       B            0            10     52   \n",
              "19999  19999       B       B       A            1             9     53   \n",
              "\n",
              "       clicks       ctr  \n",
              "0           3  0.048387  \n",
              "1           0  0.000000  \n",
              "2           1  0.021277  \n",
              "3           0  0.000000  \n",
              "4           0  0.000000  \n",
              "...       ...       ...  \n",
              "19995       0  0.000000  \n",
              "19996       0  0.000000  \n",
              "19997       5  0.227273  \n",
              "19998       0  0.000000  \n",
              "19999       0  0.000000  \n",
              "\n",
              "[20000 rows x 9 columns]"
            ]
          },
          "execution_count": 6,
          "metadata": {},
          "output_type": "execute_result"
        }
      ],
      "source": [
        "data = pd.read_csv('https://raw.githubusercontent.com/ZolotarevStat/psmo_22_23/2023/df_hw3.csv')\n",
        "data"
      ]
    },
    {
      "cell_type": "markdown",
      "metadata": {
        "id": "TC1lQ378Ai6s"
      },
      "source": [
        "## Бонус: EM (1 балл)\n",
        "\n",
        "Реализуйте ЕМ-алгоритм для разделения смеси распределений (подсказка: смесей от 2 до 4) исходных данных. Реализация поможет лучше интерпретировать полученные результаты по ходу всего ДЗ\n"
      ]
    },
    {
      "cell_type": "markdown",
      "metadata": {
        "id": "ydSzqK9asVP0"
      },
      "source": [
        "Посмотрим на распределения признаков:"
      ]
    },
    {
      "cell_type": "code",
      "execution_count": 7,
      "metadata": {
        "colab": {
          "base_uri": "https://localhost:8080/",
          "height": 467
        },
        "id": "OI6f3nNvp2Fv",
        "outputId": "d7906d85-bb0d-4dad-b453-2811a6930c04"
      },
      "outputs": [
        {
          "data": {
            "text/plain": [
              "<Axes: xlabel='num_segments', ylabel='Density'>"
            ]
          },
          "execution_count": 7,
          "metadata": {},
          "output_type": "execute_result"
        },
        {
          "data": {
            "image/png": "[encoded data removed]",
            "text/plain": [
              "<Figure size 640x480 with 1 Axes>"
            ]
          },
          "metadata": {},
          "output_type": "display_data"
        }
      ],
      "source": [
        "sns.kdeplot(data, x='num_segments', hue='is_teenager')"
      ]
    },
    {
      "cell_type": "code",
      "execution_count": 7,
      "metadata": {
        "id": "tys0RxbSzgw8"
      },
      "outputs": [],
      "source": []
    },
    {
      "cell_type": "markdown",
      "metadata": {
        "id": "7zDvZLi7sYrH"
      },
      "source": [
        "Пусть у нас K компонент в смеси и $n$ элементов в выборке. Пусть $\\xi \\in \\mathbb{R}^{n \\times 2}$ выборка, где $\\xi_{i, 1}$ - соответствия тинейджеру i-го наболюдения, $\\xi_{i, 2}$ - кол-во сегментов, при этом они независимы и получаются из суммы многомерных распределений, где одна из компонент - бернуллиевская с.в. с параметром $p_j$, а другая - пуассоновская с параметром $\\lambda_j$. Пусть $Z_i$ - скрытая случайная величина, которая говорит, из какой из компонент смеси мы семплируем $\\xi_i$."
      ]
    },
    {
      "cell_type": "markdown",
      "metadata": {
        "id": "lnFtqUBqtE47"
      },
      "source": [
        "Иными словами,\n",
        "\n",
        "$$P(\\xi_{i, 1} = A, \\xi_{i, 2} = B) = \\sum_{i=1}^{K}q_ip_i^{A}(1 - p_i)^{1 - A}\\left( \\frac{e^{-\\lambda_i}\\lambda_i^B}{B!} \\right), \\sum_{i=1}^Kq_i = 1$$"
      ]
    },
    {
      "cell_type": "markdown",
      "metadata": {
        "id": "kbF750wnwdX4"
      },
      "source": [
        "Нижняя оценка на лог-правдоподобие:\n",
        "\n",
        "$$Q(\\hat{\\theta}, \\theta) = \\sum_{i=1}^{n} \\sum_{j=1}^{K}w_i^{(j)}\\ln \\left[  \\frac{q_j}{w_i^{(j)}}p^{\\xi_{i, 1}}(1 - p)^{1 - \\xi_{i, 1}} \\frac{e^{-\\lambda_j}\\lambda_j^{\\xi_{i, 2}}}{\\xi_{i, 2}!} \\right]$$"
      ]
    },
    {
      "cell_type": "markdown",
      "metadata": {
        "id": "EnEq6p08txCl"
      },
      "source": [
        "Запишем явно Е, М шаги алгоритма (всё делается аналогично домашке по ЕМ-алгоритму, так что в целях чистоты домашки опустим вычисления):"
      ]
    },
    {
      "cell_type": "markdown",
      "metadata": {
        "id": "2JPdZDZ1wbxc"
      },
      "source": [
        "E - шаг:\n",
        "\n",
        "$$ w_i^{(j)} =  P(Z_i = k | X_i) = \\frac{P(Z_i = k)P(X_i = \\hat{X_i} | Z_i = k)}{P(X_i = \\hat{X_i})}$$\n",
        "\n",
        "M - шаг:\n",
        "\n",
        "$$\\begin{cases}\n",
        "q_j = \\frac{\\sum_{i=1}^n w_i^{(j)}}{n} \\\\\n",
        "p_j = \\frac{\\sum_{i=1}^n w_i^{(j)}\\xi_{i, 1}}{\\sum_{i=1}^n w_i^{(j)}} \\\\\n",
        "\\lambda_j = \\frac{\\sum_{i=1}^n w_i^{(j)}\\xi_{i, 2}}{\\sum_{i=1}^n w_i^{(j)}} \\\\\n",
        "\\end{cases}$$"
      ]
    },
    {
      "cell_type": "code",
      "execution_count": 10,
      "metadata": {
        "id": "hfumcnGX7waT"
      },
      "outputs": [],
      "source": [
        "class UsersMixtureModel:\n",
        "    '''\n",
        "    Implements EM algorithm for clusterizing users\n",
        "    '''\n",
        "\n",
        "    def __init__(self, K=1, ps=[0], lambdas=[1], qs=[1]):\n",
        "        '''\n",
        "        Input\n",
        "        int K -- number of components\n",
        "        list(float[] np.array(d)) mus -- K entries of (d,), expected values\n",
        "        list(float[][]) sigmas -- K entries of (d,d,), covariances\n",
        "        list(float) qs -- K floats, weights, positive and sump up to 1\n",
        "        '''\n",
        "        self.K=K\n",
        "        self.ps = ps\n",
        "        self.lambdas = lambdas\n",
        "        self.qs = qs\n",
        "        self.w = None\n",
        "\n",
        "\n",
        "    def sample(self, N=10):\n",
        "        '''\n",
        "        Samples N samples from the model\n",
        "        Input\n",
        "        int N -- number of samples\n",
        "        Output\n",
        "        float[][] -- (N,d), N d-dimensional samples\n",
        "        int[] -- (N,), cluster assignments\n",
        "        '''\n",
        "        bins = stats.multinomial.rvs(1, self.qs, N).argmax(axis=1)\n",
        "        samples = np.ndarray((N, 2))\n",
        "        for i in range(N):\n",
        "            samples[i, 0] = stats.bernoulli.rvs(self.ps[bins[i]])\n",
        "            samples[i, 1] = stats.poisson.rvs(self.lambdas[bins[i]])\n",
        "        return samples, bins\n",
        "        pass\n",
        "        #YOUR CODE\n",
        "\n",
        "    def pdf(self, data):\n",
        "      return np.array(self.qs).T @\\\n",
        "       (np.array([stats.poisson.pmf(data[:, 1], self.lambdas[i]) for i in range(self.K)]) \\\n",
        "        * np.array([stats.bernoulli.pmf(data[:, 0], self.ps[i]) for i in range(self.K)]))\n",
        "\n",
        "    def log_likelihood(self, data):\n",
        "      return np.sum(np.log(self.pdf(data)))\n",
        "\n",
        "    def fitEM(self, data, nSteps):\n",
        "        N = data.shape[0]\n",
        "        '''\n",
        "        Fits mus and sigmas using EM-algorithm\n",
        "        Input\n",
        "        float[][] data -- (batch, d), given data\n",
        "        int nSteps --  number of steps for EM\n",
        "        '''\n",
        "        cur_q = self.log_likelihood(data)\n",
        "        q_history = [cur_q]\n",
        "        w = None\n",
        "        for _ in range(nSteps):\n",
        "            w = np.ndarray((self.K, ))\n",
        "            w = np.array(self.qs).reshape((self.K, 1)) * (np.array([stats.poisson.pmf(data[:, 1], self.lambdas[i]) for i in range(self.K)]) * np.array([stats.bernoulli.pmf(data[:, 0], self.ps[i]) for i in range(self.K)]))\n",
        "            w /= np.sum(w, axis=0)\n",
        "            w = w.T\n",
        "\n",
        "            self.qs = w.sum(axis=0) / N\n",
        "\n",
        "            for i, w_sum in enumerate(w.sum(axis=0)):\n",
        "                self.ps[i] = (w[:, i] @ data[:, 0]) / w_sum\n",
        "                self.lambdas[i] = (w[:, i] @ data[:, 1]) / w_sum\n",
        "            cur_q = self.log_likelihood(data)\n",
        "            q_history.append(cur_q)\n",
        "        return q_history, w.argmax(axis=1)\n",
        "        pass"
      ]
    },
    {
      "cell_type": "markdown",
      "metadata": {
        "id": "1KP7KvXSer1M"
      },
      "source": [
        "Переберём кол-во кластеров и посмотрим на гистограммы распределений:"
      ]
    },
    {
      "cell_type": "code",
      "execution_count": 27,
      "metadata": {
        "colab": {
          "base_uri": "https://localhost:8080/",
          "height": 1000
        },
        "id": "RL1MrgCfBKmj",
        "outputId": "733b52ac-899d-484b-86a1-e398849c9473"
      },
      "outputs": [
        {
          "name": "stdout",
          "output_type": "stream",
          "text": [
            "[0.7326112620505043, 0.26374307989556567] [3.335583232610722, 12.013738756319384] [0.46059197 0.53940803]\n",
            "[0.9963785414125788, 0.5107247284845073, 0.2667823583046254] [3.061026840770174, 3.633592250907858, 12.080771486083043] [0.20368324 0.26363247 0.5326843 ]\n",
            "[0.9986054389371675, 0.9978714693256528, 0.014137259239692935, 0.27641057629514554] [3.147998870701457, 3.148339096193939, 4.278986318739787, 12.215224365212327] [0.10315734 0.23174171 0.14642303 0.51867792]\n"
          ]
        },
        {
          "data": {
            "image/png": "[encoded data removed]",
            "text/plain": [
              "<Figure size 3000x2000 with 6 Axes>"
            ]
          },
          "metadata": {},
          "output_type": "display_data"
        }
      ],
      "source": [
        "fig, ax = plt.subplots(3, 2, figsize=(30, 20))\n",
        "for i in range(2, 5):\n",
        "    model_clients = UsersMixtureModel(i, ps=[1 / i for _ in range(i)], lambdas=[2 ** j for j in range(i)], qs=[1/i for _ in range(i)] ) #инициализация с потолочными параметрами\n",
        "    q_clients_history, data_clusters = model_clients.fitEM(data[['is_teenager', 'num_segments']].values, 100)\n",
        "    data['cluster'] = data_clusters\n",
        "    sns.histplot(data[data['is_teenager'] == 0], stat=\"density\", x='num_segments', hue='cluster', ax=ax[i - 2, 0], bins=50, alpha=0.6)\n",
        "    ax[i - 2, 0].set_title(f\"Density histogram of num_segments for non-teenagers with visualized clusters, K = {i}\")\n",
        "    sns.histplot(data[data['is_teenager'] == 1], stat=\"density\", x='num_segments', hue='cluster', ax=ax[i - 2, 1], bins=50, alpha=0.6)\n",
        "    ax[i - 2, 1].set_title(f\"Density histogram of num_segments for teenagers with visualized clusters, K = {i}\")\n",
        "data = data.drop(columns='cluster')\n",
        "plt.show()"
      ]
    },
    {
      "cell_type": "markdown",
      "metadata": {
        "id": "hr0vEoSmdQIT"
      },
      "source": [
        "Уже визуально видно, что лучше всего выглядят 2 кластера в нашей модели.\n",
        "\n",
        "Значит, у нас есть два вида пользователей, который отличаются качественно кол-вом сегментов"
      ]
    },
    {
      "cell_type": "markdown",
      "metadata": {
        "id": "rXvJ9maSpsKH"
      },
      "source": [
        "## Проверяем однородность разбиений (2 балла)"
      ]
    },
    {
      "cell_type": "markdown",
      "metadata": {
        "id": "9-mVYLUfppuH"
      },
      "source": [
        "В этой части задания необходимо выбрать правильный метод разбиения выборки из предложенных вариантов [split_1, split_2, split_3], проверяя следующие гипотезы [при проверке используйте как минимум 2 ранговых критерия]:\n",
        "* гипотеза о сдвиге\n",
        "* гипотеза о масштабе\n",
        "* гипотеза о независимости\n",
        "\n",
        "Однородность разбиений необходимо проверять, используя только те данные, которые есть у нас ДО проведения А/В теста.\n",
        "\n",
        "Разбалловка:\n",
        "* За реализацию кода +0.5 балла\n",
        "* За корректный и *обоснованный* выбор признаков, на основе которых проверяется однородность, +0.5 балла (при неверном выборе признаков 0 баллов за последующие части этого блока)\n",
        "* За интерпретацию полученных результатов проверки гипотез +0.5 балла\n",
        "* За выбор правильного метода разбиения по итогам блока +0.5 балла\n",
        "\n",
        "NOTE: Обратите внимание на формат данных, имеющихся о пользователе до проведения эксперимента И внимательно подумайте над тем, каким образом можно проверить гипотезу о независимости"
      ]
    },
    {
      "cell_type": "markdown",
      "metadata": {
        "id": "naz_9GyuJfat"
      },
      "source": [
        "Т.к. мы делаем эксперимент и смотрим на CTR, то, очевидно, данные по кликам и показам нам недоступна до проведения эксперимента. Получается, что нам важно проверить то, что наши разбиения корректны по признакам is_teenager и num_segments (это все данные, которые у нас есть, а id - это уникальный признак для каждого из объектов)\n",
        "\n",
        "Заметим, что is_teenager - биноминальная случайная величина, так что для неё имеет смысл проверить только гипотезу о независимости принадлежности к группе тинейджеров (которая проверяется через критерий хи-квадрат Пирсона), а вот num_segments - какая-то произвольная дискретная величина, которую справедливо проверять на однородность через гипотезу о сдвиге/масштабе"
      ]
    },
    {
      "cell_type": "markdown",
      "metadata": {
        "id": "-A5yH_RW6X_S"
      },
      "source": [
        "Построим графики распределений имеющихся у нас до эксперимента признаков в разрезе способа сплитования:"
      ]
    },
    {
      "cell_type": "code",
      "execution_count": 29,
      "metadata": {
        "colab": {
          "base_uri": "https://localhost:8080/",
          "height": 1000
        },
        "id": "34km85VeAV_6",
        "outputId": "23ac9dd2-adba-40c2-ec49-f1e6fdf3a2b2"
      },
      "outputs": [
        {
          "data": {
            "image/png": "[encoded data removed]",
            "text/plain": [
              "<Figure size 2000x2000 with 6 Axes>"
            ]
          },
          "metadata": {},
          "output_type": "display_data"
        }
      ],
      "source": [
        "splits = ['split_1', 'split_2', 'split_3']\n",
        "\n",
        "fig, ax = plt.subplots(2, 3, figsize=(20, 20))\n",
        "fig.suptitle(\"Boxplots of features by split type\", fontsize=20)\n",
        "\n",
        "for i, split in enumerate(splits):\n",
        "    sns.boxplot(data, x=split, y='is_teenager', ax=ax[0, i])\n",
        "    sns.boxplot(data, x=split, y='num_segments', ax=ax[1, i])\n",
        "plt.show()"
      ]
    },
    {
      "cell_type": "markdown",
      "metadata": {
        "id": "EFtuR7xv6iNm"
      },
      "source": [
        "Уже визуально видим разницы в распределениях для первого способа разделения на тест и контроль. Очевидно, что A/A тест для первого способа сплитования не пройдёт, но все равно проведём проверку гипотез об однородности выборок для всех способов сплитования.\n",
        "\n",
        "Проведём множественное тестирование, и если есть способ сплитования, при котором мы принимаем все гипотезы, то это - самый лучший способ сплитования"
      ]
    },
    {
      "cell_type": "code",
      "execution_count": 30,
      "metadata": {
        "id": "TG-3uo2mK98m"
      },
      "outputs": [],
      "source": [
        "from statsmodels.stats.multitest import multipletests\n",
        "import scipy.stats as stats"
      ]
    },
    {
      "cell_type": "code",
      "execution_count": 31,
      "metadata": {
        "colab": {
          "base_uri": "https://localhost:8080/"
        },
        "id": "UJNeYGrmAWyD",
        "outputId": "b14c80c7-680b-441b-8f6c-8e09037e3b1f"
      },
      "outputs": [
        {
          "name": "stdout",
          "output_type": "stream",
          "text": [
            "Statistic for is_teenager independence test: '               '18354.571517640292, p-value: 0.0\n",
            "Statistic for is num_segnemts scale test: '               '54365047.5, p-value: 2.8525396665998405e-110\n",
            "Statistic for is num_segnemts bias test: '               '49780242.0, p-value: 1.0\n",
            "Corrected p-values for multiple testing: [0.00000000e+000 5.70507933e-110 1.00000000e+000]\n",
            "Samples divided by split_1 are not uniform\n",
            "----------\n",
            "Statistic for is_teenager independence test: '               '0.2742520661357355, p-value: 0.600493607484649\n",
            "Statistic for is num_segnemts scale test: '               '49909292.5, p-value: 0.6328584524229113\n",
            "Statistic for is num_segnemts bias test: '               '50000000.0, p-value: 1.0\n",
            "Corrected p-values for multiple testing: [1. 1. 1.]\n",
            "Samples divided by split_2 are uniform\n",
            "----------\n",
            "Statistic for is_teenager independence test: '               '0.7352012628804598, p-value: 0.3912024344640401\n",
            "Statistic for is num_segnemts scale test: '               '48304620.0, p-value: 0.0012752445758212724\n",
            "Statistic for is num_segnemts bias test: '               '47912260.5, p-value: 1.0\n",
            "Corrected p-values for multiple testing: [0.78240487 0.00382573 1.        ]\n",
            "Samples divided by split_3 are not uniform\n",
            "----------\n"
          ]
        }
      ],
      "source": [
        "verbose = True\n",
        "\n",
        "for i, split in enumerate(splits):\n",
        "    control = data[data[split] == 'A']\n",
        "    test = data[data[split] == 'B']\n",
        "    contigency_table = pd.crosstab(index=data[split], columns=data['is_teenager'])\n",
        "    results_is_teenager_ind = stats.chi2_contingency(contigency_table \\\n",
        "                                                     .dropna(axis=1))\n",
        "    results_scale = stats.ansari(control.num_segments,\n",
        "                                 test.num_segments)\n",
        "    results_bias = stats.mannwhitneyu(control.num_segments,\n",
        "                                      control.num_segments)\n",
        "    overall_pvalue = multipletests([results_is_teenager_ind.pvalue,\n",
        "                                    results_scale.pvalue,\n",
        "                                    results_bias.pvalue], alpha=0.05,\n",
        "                                   method='holm')\n",
        "    if verbose:\n",
        "        print(f\"Statistic for is_teenager independence test: ' \\\n",
        "              '{results_is_teenager_ind.statistic}, p-value: {results_is_teenager_ind.pvalue}\")\n",
        "        print(f\"Statistic for is num_segnemts scale test: ' \\\n",
        "              '{results_scale.statistic}, p-value: {results_scale.pvalue}\")\n",
        "        print(f\"Statistic for is num_segnemts bias test: ' \\\n",
        "              '{results_bias.statistic}, p-value: {results_bias.pvalue}\")\n",
        "        print(f'Corrected p-values for multiple testing: {overall_pvalue[1]}')\n",
        "    print(f'Samples divided by {split} are {\"not \" if np.any(overall_pvalue[0]) else \"\"}uniform')\n",
        "    print('----------')"
      ]
    },
    {
      "cell_type": "markdown",
      "metadata": {
        "id": "sDyOsJLqXTlL"
      },
      "source": [
        "Видим, что 2-й способ - самый лучший способ разбиения на тест/контроль с точки зрения однородности\n"
      ]
    },
    {
      "cell_type": "markdown",
      "metadata": {
        "id": "dlR6aDc3AdUr"
      },
      "source": [
        "## Подводим результаты А/В (3.5 балла)\n",
        "\n",
        "Теперь, когда мы выбрали подходящее сплитование для нашего набора данных, мы можем посмотреть на результирующие метрики, которые получились по результатам А/В теста. В рамках данной части необходимо сделать следующее:\n",
        "1. Сформулировать нулевую и альтернативную гипотезу для теста (0.5)\n",
        "2. Сравнить значения получившихся значений целевых метрик, формально проверить гипотезу и интерпретировать результат (0.5)\n",
        "3. Реализовать хотя бы два из пройденных на семинаре методов для уточнения корректности полученных результатов, если они здесь применимы (2 балла)\n",
        "3. * Бакетизация\n",
        "3. * Пост-стратификация\n",
        "3. * Дельта-метод\n",
        "4. За красивую и хорошо интерпретируемую визуализацию 0.5 балла"
      ]
    },
    {
      "cell_type": "markdown",
      "metadata": {
        "id": "0mTgBu4LYWxZ"
      },
      "source": [
        "Пусть F - функция распределения CTR на контроле, G - функция распределения CTR на тесте. Проверяем гипотезу\n",
        "\n",
        "*   $H_0: F(x) = G(x) \\forall x \\in \\mathbb{R}$\n",
        "*   $H_1: \\exists \\alpha \\neq 0: F(x + \\alpha) = G(x)$\n",
        "\n",
        "Это равносильно проверки того, что матожидания на контроле и тесте равны"
      ]
    },
    {
      "cell_type": "markdown",
      "metadata": {
        "id": "m-31AQ9I-mOG"
      },
      "source": [
        "Построим гистограммы распределения CTR"
      ]
    },
    {
      "cell_type": "code",
      "execution_count": 32,
      "metadata": {
        "colab": {
          "base_uri": "https://localhost:8080/"
        },
        "id": "Bjhjcd1AAyii",
        "outputId": "37b5decb-00f2-4a99-b87e-a3437781ada9"
      },
      "outputs": [
        {
          "name": "stdout",
          "output_type": "stream",
          "text": [
            "CTR on control is 0.015159714308328218, CTR on test is 0.022501570593595806\n"
          ]
        }
      ],
      "source": [
        "control = data[data['split_2'] == 'A']\n",
        "test = data[data['split_2'] == 'B']\n",
        "print(f'CTR on control is {np.mean(control.ctr)}, CTR on test is {np.mean(test.ctr)}')"
      ]
    },
    {
      "cell_type": "code",
      "execution_count": 33,
      "metadata": {
        "colab": {
          "base_uri": "https://localhost:8080/",
          "height": 472
        },
        "id": "oDF9zz-2bLGc",
        "outputId": "3dcea04c-0bab-41f2-dcdd-2e4fb43ff6f8"
      },
      "outputs": [
        {
          "data": {
            "image/png": "[encoded data removed]",
            "text/plain": [
              "<Figure size 640x480 with 1 Axes>"
            ]
          },
          "metadata": {},
          "output_type": "display_data"
        }
      ],
      "source": [
        "plt.hist(control.ctr, density=True, bins=50, label='Control', alpha=0.6)\n",
        "plt.hist(test.ctr, density=True, bins=50, label='Test', alpha=0.6)\n",
        "plt.legend(title=\"CTR density\")\n",
        "plt.title(\"Densities of CTRs on control and test\")\n",
        "plt.xlabel(\"CTR\")\n",
        "plt.ylabel(\"Density\")\n",
        "plt.show()"
      ]
    },
    {
      "cell_type": "markdown",
      "metadata": {
        "id": "TLfd-JqgCN6b"
      },
      "source": [
        "Уже видим, что на тесте CTR стал выглядеть лучше в плане распределения - на контроле видим очень много людей с околонулевым CTR, тогда как на тесте CTR выше какой-то нулевой отметки у большего числа людей + выбросы с точки зрения большого CTR видно только на тесте"
      ]
    },
    {
      "cell_type": "code",
      "execution_count": 34,
      "metadata": {
        "colab": {
          "base_uri": "https://localhost:8080/"
        },
        "id": "r43qH7JLcWxb",
        "outputId": "26f09f8d-fd1e-4d0d-de2a-0dea63461f86"
      },
      "outputs": [
        {
          "name": "stdout",
          "output_type": "stream",
          "text": [
            "P-value is: 1.1303345064750247e-37\n"
          ]
        }
      ],
      "source": [
        "print(\"P-value is:\", stats.mannwhitneyu(control.ctr, test.ctr).pvalue)"
      ]
    },
    {
      "cell_type": "markdown",
      "metadata": {
        "id": "AGzRqFf1f818"
      },
      "source": [
        "Видим, что есть статзначимость $\\implies$ есть различия в матожиданиях $\\implies$ эксперимент изменяет итоговый CTR (растёт, как мы видим из графиков и среднего CTR)"
      ]
    },
    {
      "cell_type": "markdown",
      "metadata": {
        "id": "K5vkiOasliPp"
      },
      "source": [
        "Сделаем тест с бакетизацией (возьмем кол-во бинов, равное 100):"
      ]
    },
    {
      "cell_type": "code",
      "execution_count": 35,
      "metadata": {
        "colab": {
          "base_uri": "https://localhost:8080/"
        },
        "id": "25JHfkVxlkQD",
        "outputId": "cf507ed1-855b-4ebe-9c2d-74caeb6a78a6"
      },
      "outputs": [
        {
          "name": "stderr",
          "output_type": "stream",
          "text": [
            "<ipython-input-35-11b514e104dc>:1: SettingWithCopyWarning: \n",
            "A value is trying to be set on a copy of a slice from a DataFrame.\n",
            "Try using .loc[row_indexer,col_indexer] = value instead\n",
            "\n",
            "See the caveats in the documentation: https://pandas.pydata.org/pandas-docs/stable/user_guide/indexing.html#returning-a-view-versus-a-copy\n",
            "  control['bucket'] = pd.cut(control.ctr, bins=100, retbins=True, labels=range(100))[0]\n",
            "<ipython-input-35-11b514e104dc>:2: SettingWithCopyWarning: \n",
            "A value is trying to be set on a copy of a slice from a DataFrame.\n",
            "Try using .loc[row_indexer,col_indexer] = value instead\n",
            "\n",
            "See the caveats in the documentation: https://pandas.pydata.org/pandas-docs/stable/user_guide/indexing.html#returning-a-view-versus-a-copy\n",
            "  test['bucket'] = pd.cut(test.ctr, bins=100, retbins=True, labels=range(100))[0]\n"
          ]
        }
      ],
      "source": [
        "control['bucket'] = pd.cut(control.ctr, bins=100, retbins=True, labels=range(100))[0]\n",
        "test['bucket'] = pd.cut(test.ctr, bins=100, retbins=True, labels=range(100))[0]"
      ]
    },
    {
      "cell_type": "markdown",
      "metadata": {
        "id": "a3WJ2b8Zg_RR"
      },
      "source": [
        "Визуализируем бины:"
      ]
    },
    {
      "cell_type": "code",
      "execution_count": 43,
      "metadata": {
        "colab": {
          "base_uri": "https://localhost:8080/",
          "height": 707
        },
        "id": "nY2kAeY0h1yL",
        "outputId": "a507da36-aa2e-4706-aac8-79a655ee22ec"
      },
      "outputs": [
        {
          "name": "stderr",
          "output_type": "stream",
          "text": [
            "<ipython-input-43-fb9aed67ccda>:1: FutureWarning: The default value of numeric_only in DataFrameGroupBy.mean is deprecated. In a future version, numeric_only will default to False. Either specify numeric_only or select only columns which should be valid for the function.\n",
            "  plt.hist(control.groupby('bucket').mean()['ctr'], bins=25, density=True)\n"
          ]
        },
        {
          "data": {
            "text/plain": [
              "(array([2.14285714, 4.28571429, 4.28571429, 4.28571429, 4.28571429,\n",
              "        4.28571429, 4.28571429, 4.28571429, 4.28571429, 4.28571429,\n",
              "        3.21428571, 3.21428571, 3.21428571, 4.28571429, 2.14285714,\n",
              "        3.21428571, 4.28571429, 4.28571429, 2.14285714, 1.07142857,\n",
              "        2.14285714, 0.        , 0.        , 0.        , 1.07142857]),\n",
              " array([0.        , 0.01333333, 0.02666667, 0.04      , 0.05333333,\n",
              "        0.06666667, 0.08      , 0.09333333, 0.10666667, 0.12      ,\n",
              "        0.13333333, 0.14666667, 0.16      , 0.17333333, 0.18666667,\n",
              "        0.2       , 0.21333333, 0.22666667, 0.24      , 0.25333333,\n",
              "        0.26666667, 0.28      , 0.29333333, 0.30666667, 0.32      ,\n",
              "        0.33333333]),\n",
              " <BarContainer object of 25 artists>)"
            ]
          },
          "execution_count": 43,
          "metadata": {},
          "output_type": "execute_result"
        },
        {
          "data": {
            "image/png": "[encoded data removed]",
            "text/plain": [
              "<Figure size 640x480 with 1 Axes>"
            ]
          },
          "metadata": {},
          "output_type": "display_data"
        }
      ],
      "source": [
        "plt.hist(control.groupby('bucket').mean()['ctr'], bins=25, density=True)"
      ]
    },
    {
      "cell_type": "code",
      "execution_count": 44,
      "metadata": {
        "colab": {
          "base_uri": "https://localhost:8080/",
          "height": 652
        },
        "id": "JsjzjnBah9i1",
        "outputId": "ada1ce24-5a71-433c-f387-3fbdf15a750a"
      },
      "outputs": [
        {
          "name": "stderr",
          "output_type": "stream",
          "text": [
            "<ipython-input-44-03209fd6532f>:1: FutureWarning: The default value of numeric_only in DataFrameGroupBy.mean is deprecated. In a future version, numeric_only will default to False. Either specify numeric_only or select only columns which should be valid for the function.\n",
            "  plt.hist(test.groupby('bucket').mean()['ctr'], bins=25, density=True)\n"
          ]
        },
        {
          "data": {
            "text/plain": [
              "(array([2.17391304, 2.89855072, 2.89855072, 2.89855072, 2.89855072,\n",
              "        2.89855072, 2.89855072, 2.89855072, 2.89855072, 2.17391304,\n",
              "        2.89855072, 2.89855072, 2.17391304, 2.89855072, 2.17391304,\n",
              "        2.17391304, 0.72463768, 0.        , 2.17391304, 0.72463768,\n",
              "        1.44927536, 0.        , 1.44927536, 0.        , 0.72463768]),\n",
              " array([0.  , 0.02, 0.04, 0.06, 0.08, 0.1 , 0.12, 0.14, 0.16, 0.18, 0.2 ,\n",
              "        0.22, 0.24, 0.26, 0.28, 0.3 , 0.32, 0.34, 0.36, 0.38, 0.4 , 0.42,\n",
              "        0.44, 0.46, 0.48, 0.5 ]),\n",
              " <BarContainer object of 25 artists>)"
            ]
          },
          "execution_count": 44,
          "metadata": {},
          "output_type": "execute_result"
        },
        {
          "data": {
            "image/png": "[encoded data removed]",
            "text/plain": [
              "<Figure size 640x480 with 1 Axes>"
            ]
          },
          "metadata": {},
          "output_type": "display_data"
        }
      ],
      "source": [
        "plt.hist(test.groupby('bucket').mean()['ctr'], bins=25, density=True)"
      ]
    },
    {
      "cell_type": "code",
      "execution_count": 45,
      "metadata": {
        "id": "qxnrlu0znSMq"
      },
      "outputs": [],
      "source": [
        "control_ctr_buckets = control[['bucket', 'ctr']].groupby('bucket').mean()['ctr'].dropna()\n",
        "test_ctr_buckets = test[['bucket', 'ctr']].groupby('bucket').mean()['ctr'].dropna()"
      ]
    },
    {
      "cell_type": "markdown",
      "metadata": {
        "id": "cB6MY2cgns9o"
      },
      "source": [
        "Теперь проверим t-тестом гипотезу на бакетизированных данных:"
      ]
    },
    {
      "cell_type": "code",
      "execution_count": 46,
      "metadata": {
        "colab": {
          "base_uri": "https://localhost:8080/"
        },
        "id": "Oy6S2sp5nfg2",
        "outputId": "54ccdcf2-a41f-42a4-d714-22894aecafb2"
      },
      "outputs": [
        {
          "name": "stdout",
          "output_type": "stream",
          "text": [
            "P-value on bucketized data is: 0.0006987322135101129\n"
          ]
        }
      ],
      "source": [
        "print(\"P-value on bucketized data is:\", stats.ttest_ind(control_ctr_buckets, test_ctr_buckets).pvalue)"
      ]
    },
    {
      "cell_type": "markdown",
      "metadata": {
        "id": "YieYIYr5oD7R"
      },
      "source": [
        "Результат (гипотеза отвергается) совпадает с изначальным тестом."
      ]
    },
    {
      "cell_type": "markdown",
      "metadata": {
        "id": "mr6jGkeiosM8"
      },
      "source": [
        "Сделаем тест, используя дельта метод (т.к. мы имеем дело с проверкой гипотезы на отношении двух метрик):"
      ]
    },
    {
      "cell_type": "code",
      "execution_count": 47,
      "metadata": {
        "id": "8Vj7ktd_tnFH"
      },
      "outputs": [],
      "source": [
        "def delta_method_var(x, y, cov_xy, n):\n",
        "    y_mean = y.mean()\n",
        "    x_mean = x.mean()\n",
        "    y_var = y.var(ddof=1)\n",
        "    x_var = x.var(ddof=1)\n",
        "    return 1. / n * (x_var / y_mean ** 3 - 2 * cov_xy * x_mean / y_mean ** 3 + y_var * x_mean ** 2 / y_mean ** 4)"
      ]
    },
    {
      "cell_type": "code",
      "execution_count": 48,
      "metadata": {
        "colab": {
          "base_uri": "https://localhost:8080/"
        },
        "id": "V7f_ZFRCoMZ5",
        "outputId": "b81a1de5-b99b-4048-ee4f-9dc1a4c62f45"
      },
      "outputs": [
        {
          "name": "stderr",
          "output_type": "stream",
          "text": [
            "<ipython-input-48-e2b8761a6696>:3: FutureWarning: The default value of numeric_only in DataFrame.cov is deprecated. In a future version, it will default to False. Select only valid columns or specify the value of numeric_only to silence this warning.\n",
            "  control.cov()['views']['clicks'],\n",
            "<ipython-input-48-e2b8761a6696>:7: FutureWarning: The default value of numeric_only in DataFrame.cov is deprecated. In a future version, it will default to False. Select only valid columns or specify the value of numeric_only to silence this warning.\n",
            "  test.cov()['views']['clicks'],\n"
          ]
        }
      ],
      "source": [
        "delta_var_control = delta_method_var(control.clicks,\n",
        "                                     control.views,\n",
        "                                     control.cov()['views']['clicks'],\n",
        "                                     control.shape[0])\n",
        "delta_var_test = delta_method_var(test.clicks,\n",
        "                                  test.views,\n",
        "                                  test.cov()['views']['clicks'],\n",
        "                                  test.shape[0])"
      ]
    },
    {
      "cell_type": "code",
      "execution_count": 49,
      "metadata": {
        "colab": {
          "base_uri": "https://localhost:8080/"
        },
        "id": "gYsDBSftsRNz",
        "outputId": "b1c1ae41-60b9-43e5-9163-465c235a512b"
      },
      "outputs": [
        {
          "data": {
            "text/plain": [
              "(2.543809590968728e-09, 2.3964039093297086e-09)"
            ]
          },
          "execution_count": 49,
          "metadata": {},
          "output_type": "execute_result"
        }
      ],
      "source": [
        "delta_var_control, delta_var_test"
      ]
    },
    {
      "cell_type": "code",
      "execution_count": 50,
      "metadata": {
        "id": "k1pqJYkcvSA3"
      },
      "outputs": [],
      "source": [
        "t_stat = np.abs((control.ctr.mean() - test.ctr.mean()) / np.sqrt(delta_var_control + delta_var_test))"
      ]
    },
    {
      "cell_type": "code",
      "execution_count": 52,
      "metadata": {
        "colab": {
          "base_uri": "https://localhost:8080/"
        },
        "id": "Xwvq5HF_vmir",
        "outputId": "1dee72ea-d691-4564-e19d-7ef6618be8d2"
      },
      "outputs": [
        {
          "name": "stdout",
          "output_type": "stream",
          "text": [
            "P-value for delta method test is: 0.0\n"
          ]
        }
      ],
      "source": [
        "print(\"P-value for delta method test is:\", stats.norm.sf(t_stat)) # можем использовать нормальное стандартное, т.к. в обеих выборках достаточно данных, чтобы аппроксимировать Стьюдента нормальным"
      ]
    },
    {
      "cell_type": "markdown",
      "metadata": {
        "id": "KU0BLeP2wGGY"
      },
      "source": [
        "Результат (гипотеза отвергается) совпадает с изначальным тестом."
      ]
    },
    {
      "cell_type": "markdown",
      "metadata": {
        "id": "2hy4VmsawIlL"
      },
      "source": [
        "Имеем, что результаты теста с уточнением совпадает с изначальным тестом Манна-Уитни."
      ]
    },
    {
      "cell_type": "markdown",
      "metadata": {
        "id": "zzcXqOZPAy-y"
      },
      "source": [
        "## bootstrap (3 балла)"
      ]
    },
    {
      "cell_type": "markdown",
      "metadata": {
        "id": "vNzEqFjwA0MK"
      },
      "source": [
        "Ещё раз подведите итоги проведённого А/В теста, используя [бутстрэп](https://habr.com/ru/companies/X5Tech/articles/679842/)\n",
        "\n",
        "1. Оцените разницу в метриках, используя наивный бутстрэп и прокомментируйте, изменился ли результат А/В теста (1 балл)\n",
        "2. Оцените разницу в метриках, используя t-бутстрэп и прокомментируйте, изменился ли результат А/В теста (1 балл)\n",
        "3. Оцените разницу в метриках, используя BCA бутстрэп и прокомментируйте, изменился ли результат А/В теста (1 балл)"
      ]
    },
    {
      "cell_type": "markdown",
      "metadata": {
        "id": "Ud8ktxm2EiEF"
      },
      "source": [
        "Т.к. у нас в тесте и в контроле одинаковое кол-во наблюдений, то можем вычесть CTR контроля и теста, построить 95% доверительные интервалы для среднего у CTR и проверить, что 0 не лежит в этом доверительном интервале (это будет говорить о том, что мы можем гарантировать с нужным уровнем значимости то, что среднее разницы равна нулю (ввиду линейности матожидания это то же самое, что и разница средних))"
      ]
    },
    {
      "cell_type": "code",
      "execution_count": 53,
      "metadata": {
        "id": "-vBVB9pNGwmC"
      },
      "outputs": [],
      "source": [
        "ctr_differencies = control.ctr.values - test.ctr.values"
      ]
    },
    {
      "cell_type": "markdown",
      "metadata": {
        "id": "LrcijFR8Guqq"
      },
      "source": [
        "1. Наивный бутстрэп:"
      ]
    },
    {
      "cell_type": "code",
      "execution_count": 54,
      "metadata": {
        "colab": {
          "base_uri": "https://localhost:8080/"
        },
        "id": "oyibZ87EHKC-",
        "outputId": "d1392dc9-2318-466c-a993-abfa41e28445"
      },
      "outputs": [
        {
          "data": {
            "text/plain": [
              "array([-0.0271105 ,  0.        , -0.03571429, ..., -0.0212766 ,\n",
              "       -0.22727273,  0.        ])"
            ]
          },
          "execution_count": 54,
          "metadata": {},
          "output_type": "execute_result"
        }
      ],
      "source": [
        "ctr_differencies"
      ]
    },
    {
      "cell_type": "code",
      "execution_count": 55,
      "metadata": {
        "id": "Ym3NuUG9G9Jp"
      },
      "outputs": [],
      "source": [
        "B = 10000\n",
        "ALPHA = 0.95"
      ]
    },
    {
      "cell_type": "code",
      "execution_count": 56,
      "metadata": {
        "id": "qrDW7OnsA2ni"
      },
      "outputs": [],
      "source": [
        "bootstrapped = np.random.choice(ctr_differencies, (ctr_differencies.shape[0], B), replace=True)\n",
        "means = np.sort(np.mean(bootstrapped, axis=0))\n",
        "conf_interval = (means[int(((1 - ALPHA) / 2 * means.shape[0]) // 1)],\n",
        "                       means[int(((1 + ALPHA) / 2 * means.shape[0]) // 1)])"
      ]
    },
    {
      "cell_type": "code",
      "execution_count": 57,
      "metadata": {
        "colab": {
          "base_uri": "https://localhost:8080/"
        },
        "id": "TanMIt6UHFWT",
        "outputId": "ff4e0106-5412-4d44-b780-9b5d4c3efbe0"
      },
      "outputs": [
        {
          "name": "stdout",
          "output_type": "stream",
          "text": [
            "Our 0.050000-confidence interval is (-0.00856740505548521, -0.006127264820661429)\n"
          ]
        }
      ],
      "source": [
        "print(f\"Our {(1 - ALPHA):2f}-confidence interval is\", conf_interval)"
      ]
    },
    {
      "cell_type": "markdown",
      "metadata": {
        "id": "4b9ZkYdZHehc"
      },
      "source": [
        "Видим, что 0 не лежит в доверительном интервале наивного бутстрэпа $\\implies$ есть статзначимая разница, при этом среднее меньше нуля $\\implies$ среднее CTR на тесте больше среднего на контроле"
      ]
    },
    {
      "cell_type": "markdown",
      "metadata": {
        "id": "7vt9BcHbIEmo"
      },
      "source": [
        "2. T-бутстрэп:"
      ]
    },
    {
      "cell_type": "code",
      "execution_count": 58,
      "metadata": {
        "colab": {
          "base_uri": "https://localhost:8080/"
        },
        "id": "xpjCGFDlIG-z",
        "outputId": "cd550dd2-17c6-4888-cf03-108d8512225f"
      },
      "outputs": [
        {
          "name": "stdout",
          "output_type": "stream",
          "text": [
            "Our 0.050000-confidence interval is (-0.008574332576182273, -0.006122114340183291)\n"
          ]
        }
      ],
      "source": [
        "ctr_diff_mean = ctr_differencies.mean()\n",
        "bootstrap_samples = np.random.choice(ctr_differencies, size=(ctr_differencies.shape[0], B), replace=True)\n",
        "bootstrap_means = np.mean(bootstrap_samples, axis=0)\n",
        "bootstrap_ses = []\n",
        "\n",
        "for i in range(bootstrap_samples.shape[1]):\n",
        "  bootstrap_subsamples = np.random.choice(bootstrap_samples[:, i], size=(ctr_differencies.shape[0], int(np.sqrt(B))), replace=True)\n",
        "  bootstrap_subsamples_mean = np.mean(bootstrap_subsamples, axis = 0)\n",
        "  bootstrap_ses.append(np.std(bootstrap_subsamples_mean))\n",
        "bootstrap_ses = np.array(bootstrap_ses)\n",
        "\n",
        "T = (bootstrap_means - ctr_diff_mean) / bootstrap_ses\n",
        "T_quantiles = np.quantile(T, ((1 - ALPHA) / 2, (1 + ALPHA) / 2))\n",
        "\n",
        "bootstrap_std = np.std(bootstrap_means)\n",
        "\n",
        "LB = ctr_diff_mean - T_quantiles[1] * bootstrap_std\n",
        "UB = ctr_diff_mean - T_quantiles[0] * bootstrap_std\n",
        "print(f\"Our {(1 - ALPHA):2f}-confidence interval is ({LB}, {UB})\")"
      ]
    },
    {
      "cell_type": "markdown",
      "metadata": {
        "id": "Aegz_9SzKOWC"
      },
      "source": [
        "Видим, что 0 не лежит в доверительном интервале t-бутстрэпа $\\implies$ есть статзначимая разница, при этом среднее меньше нуля $\\implies$ среднее CTR на тесте больше среднего на контроле"
      ]
    },
    {
      "cell_type": "markdown",
      "metadata": {
        "id": "sB10x_bRKQaG"
      },
      "source": [
        "3. BCA-бутстрэп:"
      ]
    },
    {
      "cell_type": "code",
      "execution_count": 59,
      "metadata": {
        "colab": {
          "base_uri": "https://localhost:8080/"
        },
        "id": "kUPePxjPKSaL",
        "outputId": "9c81a3a0-4b4a-4d85-fbaf-2704df5afbed"
      },
      "outputs": [
        {
          "name": "stdout",
          "output_type": "stream",
          "text": [
            "Our 0.050000-confidence interval is (-0.008562747674425577, -0.006155902398034842)\n"
          ]
        }
      ],
      "source": [
        "res = stats.bootstrap((ctr_differencies, ), np.mean, confidence_level=ALPHA, method='BCa')\n",
        "print(f\"Our {(1 - ALPHA):2f}-confidence interval is ({res.confidence_interval.low}, {res.confidence_interval.high})\")"
      ]
    },
    {
      "cell_type": "markdown",
      "metadata": {
        "id": "ssYL4QDPKsZ_"
      },
      "source": [
        "Видим, что 0 не лежит в доверительном интервале BCA-бутстрэпа $\\implies$ есть статзначимая разница, при этом среднее меньше нуля $\\implies$ среднее CTR на тесте больше среднего на контроле"
      ]
    },
    {
      "cell_type": "markdown",
      "metadata": {
        "id": "fbm-cJn1Ku3B"
      },
      "source": [
        "Итого - видим, что все три метода бутстрэпа дают тот же вердикт (гипотеза отвергается), что и методы проверки, которые мы использовали выше (Манн-Уитни, дельта-метод, ...).\n",
        "\n",
        "При этом важно, что мы увидели и знак среднего разниц метрик в случае бутстрапа, тогда как в традиционных методах проверки гипотез мы только можем выяснить, совпадают ли у нас средние CTR в тесте и контроле или нет, и в случае традиционных гипотез нам требовались дополнительные действия, которые могут быть менее релевантными (типа посмотреть на график или посчитать просто средние метрик на тесте и контроле)."
      ]
    },
    {
      "cell_type": "markdown",
      "metadata": {
        "id": "ala1kIZFA40p"
      },
      "source": [
        "## Выводы (1.5 балла)"
      ]
    },
    {
      "cell_type": "code",
      "execution_count": 60,
      "metadata": {
        "colab": {
          "base_uri": "https://localhost:8080/"
        },
        "id": "XuasrYL6L013",
        "outputId": "2fbb051f-9c29-4880-fc1e-6acef3b6137b"
      },
      "outputs": [
        {
          "name": "stdout",
          "output_type": "stream",
          "text": [
            "The boost of CTR shown during experiment: 48.430044%\n"
          ]
        }
      ],
      "source": [
        "print(f'The boost of CTR shown during experiment: {((np.mean(test.ctr) / np.mean(control.ctr) - 1) * 100):3f}%')"
      ]
    },
    {
      "cell_type": "markdown",
      "metadata": {
        "id": "slC82B6oA54C"
      },
      "source": [
        "Содержательные выводы по итогам работы, интерпретирующие результат с бизнесовой точки зрения, как минимум 3-4 предложения\n",
        "\n",
        "**NOTE:** если вы неверно выберете фичу сплитования или интерпретация полученных результатов А/В окажется некорректной, то за этот пункт будет поставлено 0 баллов вне зависимости от объёма выводов"
      ]
    },
    {
      "cell_type": "markdown",
      "metadata": {
        "id": "9eqdnKX9BMzq"
      },
      "source": [
        "*YOUR TEXT IS HERE*\n",
        "\n",
        "P.S. считаем, что у нас та же затравка, как и в 11 семинаре про A/B тест - мы рекламная платформа, и мы проверяем, принесёт ли изменение модели машинного обучения (логрег заменим на catboost) в сервисе ранжирования рекламных объявлений бОльшую конверсию просмотров объявления в клик\n",
        "\n",
        "\n",
        "\n",
        "Видим, что фича, которую мы собираемся выкатывать, повышает средний CTR рекламных объявлений на ~48%. Факт того, что средний CTR с новой фичей повышается, подтверждается несколькими независимыми проверками гипотез, что говорит о том, что новая фича действительно принесла бОльшую конверсию просмотров объявления в клик, и это не случайный \"прокрас\".\n",
        "\n",
        "С точки зрения бизнеса, это означает, что мы показываем более релевантную пользователям рекламу - значит, мы больше можем зарабатывать на рекламодателях, которые платят нам за каждый клик на рекламное объявление. Мало того, за счёт более лучшей конверсии просмотров объявления в клик мы можем предлагать рекламодателям более гибкие тарифы оплаты за рекламу на нашей платформе (к примеру, брать n рублей в месяц за достижение k% конверсии в клик), а также показывать пользователям рекламу, которая им лучше приглянется, что повысит репутацию нашего сервиса."
      ]
    },
    {
      "cell_type": "markdown",
      "metadata": {
        "id": "bnOO2iAEBPHZ"
      },
      "source": [
        "## Бонус: CUPED (1 балл)\n",
        "\n",
        "Опишите понятным проверяющему языком, каким образом работает CUPED и реализуйте его для проведённого А/В теста\n",
        "\n",
        "Смысл CUPED - мы можем сделать наши эксперименты более чувствительными к экспериментам, если у нас есть данные до эксперимента.\n",
        "\n",
        "Идея - мы фиттим линейную регрессию вида $Y = \\theta (X - \\mathbb{E}X) + \\hat{Y}$, в которой мы можем явно записать $\\theta$:\n",
        "\n",
        "$$\\theta = \\frac{cov(X, Y)}{var(X)}$$\n",
        "\n",
        "Тогда нашей CUPED-метрикой будет $\\hat{Y}$ из формулы выше, которая считается как\n",
        "\n",
        "$$\\hat{Y} = Y - \\theta(X - \\mathbb{E}X), \\theta = \\frac{cov(X, Y)}{var(X)}$$\n",
        "\n",
        "За счёт того, что мы пытаемся объяснить часть \"дисперсии\" итоговых метрик историческими, мы получаем, что дисперсия CUPED-метрики снижатется. Интересное наблюдение: самое лучшее X - историческая метрика, на которой проверяется A/B тест (метрика до эксперимента).\n",
        "\n",
        "Т.к. исторических наблюдений по CTR у нас нет, то в качестве X мы можем взять имеющиеся у нас признаки - посмотрим на $\\theta$ у этих признаков, и в качестве итогового X возьмём признак, который максимально снизит итоговый CTR."
      ]
    },
    {
      "cell_type": "code",
      "execution_count": 61,
      "metadata": {
        "id": "E0EQXpFBB0Mt"
      },
      "outputs": [],
      "source": [
        "def cuped_estimate(x, y, cov_xy):\n",
        "    return y - cov_xy / x.var() * (x - x.mean())"
      ]
    },
    {
      "cell_type": "code",
      "execution_count": 62,
      "metadata": {
        "colab": {
          "base_uri": "https://localhost:8080/"
        },
        "id": "-lgGx_zHBV45",
        "outputId": "90fe62dd-f01d-4ca5-93d7-9b81b20f0f02"
      },
      "outputs": [
        {
          "name": "stdout",
          "output_type": "stream",
          "text": [
            "Variance before CUPED: 0.0019135370957491366\n",
            "Variance after CUPED on is_teenager: 0.001786785112936489\n",
            "Variance after CUPED on num_segments: 0.0019122696655000135\n"
          ]
        },
        {
          "name": "stderr",
          "output_type": "stream",
          "text": [
            "<ipython-input-62-f4129962dd76>:2: FutureWarning: The default value of numeric_only in DataFrame.cov is deprecated. In a future version, it will default to False. Select only valid columns or specify the value of numeric_only to silence this warning.\n",
            "  print(\"Variance after CUPED on is_teenager:\", cuped_estimate(data['is_teenager'], data['ctr'], data.cov()['ctr']['is_teenager']).var())\n",
            "<ipython-input-62-f4129962dd76>:3: FutureWarning: The default value of numeric_only in DataFrame.cov is deprecated. In a future version, it will default to False. Select only valid columns or specify the value of numeric_only to silence this warning.\n",
            "  print(\"Variance after CUPED on num_segments:\", cuped_estimate(data['num_segments'], data['ctr'], data.cov()['ctr']['num_segments']).var());\n"
          ]
        }
      ],
      "source": [
        "print(\"Variance before CUPED:\", data['ctr'].var())\n",
        "print(\"Variance after CUPED on is_teenager:\", cuped_estimate(data['is_teenager'], data['ctr'], data.cov()['ctr']['is_teenager']).var())\n",
        "print(\"Variance after CUPED on num_segments:\", cuped_estimate(data['num_segments'], data['ctr'], data.cov()['ctr']['num_segments']).var());"
      ]
    },
    {
      "cell_type": "markdown",
      "metadata": {
        "id": "pi-GLNq8CgQf"
      },
      "source": [
        "Видим, что CUPED-метрика, построенная по is_teenager, лучше уменьшила дисперсию метрики, по которой мы оцениваем эксперимент.\n"
      ]
    },
    {
      "cell_type": "code",
      "execution_count": 63,
      "metadata": {
        "colab": {
          "base_uri": "https://localhost:8080/"
        },
        "id": "TBsmFAWgCLU_",
        "outputId": "f9a5cc77-8a81-44d9-eb55-b082f97ded24"
      },
      "outputs": [
        {
          "name": "stderr",
          "output_type": "stream",
          "text": [
            "<ipython-input-63-3a43b8f8bae2>:1: FutureWarning: The default value of numeric_only in DataFrame.cov is deprecated. In a future version, it will default to False. Select only valid columns or specify the value of numeric_only to silence this warning.\n",
            "  data['cuped'] = cuped_estimate(data['is_teenager'], data['ctr'], data.cov()['ctr']['is_teenager'])\n",
            "<ipython-input-63-3a43b8f8bae2>:2: SettingWithCopyWarning: \n",
            "A value is trying to be set on a copy of a slice from a DataFrame.\n",
            "Try using .loc[row_indexer,col_indexer] = value instead\n",
            "\n",
            "See the caveats in the documentation: https://pandas.pydata.org/pandas-docs/stable/user_guide/indexing.html#returning-a-view-versus-a-copy\n",
            "  control['cuped'] = data[data['split_2'] == 'A']['cuped']\n",
            "<ipython-input-63-3a43b8f8bae2>:3: SettingWithCopyWarning: \n",
            "A value is trying to be set on a copy of a slice from a DataFrame.\n",
            "Try using .loc[row_indexer,col_indexer] = value instead\n",
            "\n",
            "See the caveats in the documentation: https://pandas.pydata.org/pandas-docs/stable/user_guide/indexing.html#returning-a-view-versus-a-copy\n",
            "  test['cuped'] = data[data['split_2'] == 'B']['cuped']\n"
          ]
        }
      ],
      "source": [
        "data['cuped'] = cuped_estimate(data['is_teenager'], data['ctr'], data.cov()['ctr']['is_teenager'])\n",
        "control['cuped'] = data[data['split_2'] == 'A']['cuped']\n",
        "test['cuped'] = data[data['split_2'] == 'B']['cuped']"
      ]
    },
    {
      "cell_type": "markdown",
      "metadata": {
        "id": "Avgv2TrZC2GK"
      },
      "source": [
        "Проведём ещё раз тест Манна-Уитни и посмотрим на p-value:"
      ]
    },
    {
      "cell_type": "code",
      "execution_count": 64,
      "metadata": {
        "colab": {
          "base_uri": "https://localhost:8080/"
        },
        "id": "tjCK6q7tC1lO",
        "outputId": "f8e59b2a-20f4-4fa0-9855-6398dde53bab"
      },
      "outputs": [
        {
          "name": "stdout",
          "output_type": "stream",
          "text": [
            "P-value is: 2.657647910490425e-29\n"
          ]
        }
      ],
      "source": [
        "print(\"P-value is:\", stats.mannwhitneyu(control.cuped, test.cuped).pvalue)"
      ]
    },
    {
      "cell_type": "code",
      "execution_count": 65,
      "metadata": {
        "colab": {
          "base_uri": "https://localhost:8080/"
        },
        "id": "LGGLzAt7Efrm",
        "outputId": "190ae5b2-2e70-4c76-a27f-6032fbc78b3d"
      },
      "outputs": [
        {
          "name": "stdout",
          "output_type": "stream",
          "text": [
            "Our 0.050000-confidence interval for CUPED is (-0.00861386699322202, -0.006294220108063926), interval length is 0.0023196468851580934\n",
            "Our 0.050000-confidence interval is (-0.008559574220632053, -0.006126814856131628), interval length is 0.002432759364500425\n"
          ]
        }
      ],
      "source": [
        "cuped_differencies = control.cuped.values - test.cuped.values\n",
        "res_cuped = stats.bootstrap((cuped_differencies, ), np.mean, confidence_level=ALPHA, method='BCa')\n",
        "res = stats.bootstrap((ctr_differencies, ), np.mean, confidence_level=ALPHA, method='BCa')\n",
        "print(f\"Our {(1 - ALPHA):2f}-confidence interval for CUPED is ({res_cuped.confidence_interval.low}, {res_cuped.confidence_interval.high}), interval length is {res_cuped.confidence_interval.high - res_cuped.confidence_interval.low}\")\n",
        "print(f\"Our {(1 - ALPHA):2f}-confidence interval is ({res.confidence_interval.low}, {res.confidence_interval.high}), interval length is {res.confidence_interval.high - res.confidence_interval.low}\")"
      ]
    },
    {
      "cell_type": "markdown",
      "metadata": {
        "id": "SASLSZqXHk3_"
      },
      "source": [
        "Видим, что для CUPED-метрики доверительный интервал сократился на целую одну десятитысячную!!!"
      ]
    }
  ],
  "metadata": {
    "colab": {
      "provenance": []
    },
    "kernelspec": {
      "display_name": "Python 3",
      "name": "python3"
    },
    "language_info": {
      "name": "python"
    }
  },
  "nbformat": 4,
  "nbformat_minor": 0
}
