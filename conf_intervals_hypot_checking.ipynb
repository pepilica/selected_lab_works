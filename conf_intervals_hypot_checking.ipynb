{
 "cells": [
  {
   "cell_type": "markdown",
   "metadata": {
    "collapsed": false
   },
   "source": [
    "# Математическая статистика, ДЗ 10\n",
    "\n",
    "### Куйбида Всеволод Иванович БПМИ214"
   ]
  },
  {
   "cell_type": "code",
   "execution_count": 1,
   "metadata": {
    "collapsed": false
   },
   "outputs": [],
   "source": [
    "import numpy as np\n",
    "import matplotlib.pyplot as plt\n",
    "from scipy.stats import chi2_contingency, ttest_ind\n",
    "import pandas as pd\n",
    "import seaborn as sns"
   ]
  },
  {
   "cell_type": "code",
   "execution_count": 2,
   "metadata": {
    "collapsed": false
   },
   "outputs": [],
   "source": [
    "sns.set(style='darkgrid', palette='deep')"
   ]
  },
  {
   "cell_type": "markdown",
   "metadata": {
    "collapsed": false
   },
   "source": [
    "P.S. Требуемые для ДЗ файлы должны лежать в папке data/"
   ]
  },
  {
   "cell_type": "markdown",
   "metadata": {
    "collapsed": false
   },
   "source": [
    "# Задание 1"
   ]
  },
  {
   "cell_type": "markdown",
   "metadata": {},
   "source": [
    "В 1878 году Чарльз Дарвин записал некоторые данные по высоте растений *Zea\n",
    "mays*, чтобы определить, какое влияние оказывает перекрестное опыление или самоопыление на высоту *Zea mays*. Было проведено 15 экспериментов, в ходе которых одно перекрестно-опыленное и одно само-опыленное растения выращивались\n",
    "в одном горшке, а затем измерялась их высота.\n",
    "\n",
    "Данные представлены как набор из 15 пар $(Y_1, Z_1), . . . , (Y_{15}, Z_{15})$, где $Y_i$ и $Z_i$\n",
    "– высота перекрестно-опыленного и само-опыленного растения в $i$ горшке соответственно. Данные могут быть найдены по ссылке https://disk.yandex.ru/d/FjKC9qXwUs7mTQ.\n",
    "\n",
    "Ваша задача: проверить гипотезу $H0 : E[Z_i] = E[Y_i]$ (против альтернативы $H1 : E[Z_i] 6= E[Y_i]$) на уровне значимости $α = 0.05$."
   ]
  },
  {
   "cell_type": "code",
   "execution_count": 3,
   "metadata": {
    "collapsed": false
   },
   "outputs": [],
   "source": [
    "B = 10000\n",
    "ALPHA = 0.95"
   ]
  },
  {
   "cell_type": "markdown",
   "metadata": {
    "collapsed": false
   },
   "source": [
    "Далее используются обозначения из условия.\n",
    "\n",
    "Пусть $Y_i, Z_i$ - с.в., относительно которых мы строим гипотезу, $X_i := Y_i - Z_i$.\n",
    "\n",
    "Из условия мы знаем, что $X_i$ - выборка.\n",
    "\n",
    "Проверяем следующую гипотезу:\n",
    "\n",
    "- $H_0$: $\\mathbb{E}Y_i = \\mathbb{E}Z_i \\Leftrightarrow \\mathbb{E}X_i = 0$\n",
    "- $H_1$: $\\mathbb{E}Y_i \\neq \\mathbb{E}Z_i \\Leftrightarrow \\mathbb{E}X_i \\neq 0$\n"
   ]
  },
  {
   "cell_type": "markdown",
   "metadata": {
    "collapsed": false
   },
   "source": [
    "### **1.1.1.** Откроем файл с данными:"
   ]
  },
  {
   "cell_type": "code",
   "execution_count": 4,
   "metadata": {
    "collapsed": false
   },
   "outputs": [],
   "source": [
    "plants = np.loadtxt(open(\"data/Darwin_data.csv\", \"rb\"), delimiter=\",\", skiprows=1)"
   ]
  },
  {
   "cell_type": "markdown",
   "metadata": {
    "collapsed": false
   },
   "source": [
    "### **1.1.2.** Посмотрим на наши данные:"
   ]
  },
  {
   "cell_type": "code",
   "execution_count": 5,
   "metadata": {
    "collapsed": false
   },
   "outputs": [
    {
     "name": "stdout",
     "output_type": "stream",
     "text": [
      "[[ 0.    23.5   17.375]\n",
      " [ 1.    12.    20.375]\n",
      " [ 2.    21.    20.   ]\n",
      " [ 3.    22.    20.   ]\n",
      " [ 4.    19.125 18.375]\n",
      " [ 5.    21.5   18.625]\n",
      " [ 6.    22.125 18.625]\n",
      " [ 7.    20.375 15.25 ]\n",
      " [ 8.    18.25  16.5  ]\n",
      " [ 9.    21.625 18.   ]\n",
      " [10.    23.25  16.25 ]\n",
      " [11.    32.    18.   ]\n",
      " [12.    22.125 12.75 ]\n",
      " [13.    23.    15.5  ]\n",
      " [14.    12.    18.   ]]\n"
     ]
    }
   ],
   "source": [
    "print(plants)"
   ]
  },
  {
   "cell_type": "markdown",
   "metadata": {
    "collapsed": false
   },
   "source": [
    "### **1.2.** Сделаем бутстрап для выборки $X_i$:"
   ]
  },
  {
   "cell_type": "markdown",
   "metadata": {
    "collapsed": false
   },
   "source": [
    "Сгенерируем $B$ выборок из $X$ с возвращением, построим для каждой из них оценку среднего. В полученной последовательности возьмём $\\lfloor (1 - \\gamma) / 2 \\times B \\rfloor$-квантиль как левый край и $n - \\lfloor (1 - \\gamma) / 2 \\times B \\rfloor$-квантиль как правый край."
   ]
  },
  {
   "cell_type": "code",
   "execution_count": 6,
   "metadata": {
    "collapsed": false
   },
   "outputs": [],
   "source": [
    "bootstrapped = np.random.choice(plants[:, 1] - plants[:, 2], (plants.shape[0], B), replace=True)\n",
    "means = np.sort(np.mean(bootstrapped, axis=0))\n",
    "conf_interval = (means[int(((1 - ALPHA) / 2 * means.shape[0]) // 1)],\n",
    "                       means[int(((1 + ALPHA) / 2 * means.shape[0]) // 1)])"
   ]
  },
  {
   "cell_type": "code",
   "execution_count": 7,
   "metadata": {
    "collapsed": false
   },
   "outputs": [
    {
     "name": "stdout",
     "output_type": "stream",
     "text": [
      "Our 0.050000-confidence interval is (0.6166666666666667, 6.016666666666667)\n"
     ]
    }
   ],
   "source": [
    "print(f\"Our {(1 - ALPHA):2f}-confidence interval is\", conf_interval)"
   ]
  },
  {
   "cell_type": "markdown",
   "metadata": {
    "collapsed": false
   },
   "source": [
    "Видим, что 0 не лежит в 95%-ном доверительном интервале для $\\mathbb{E}[X_i]$. Значит, отвергаем нулевую гипотезу на уровне значимости 0.05."
   ]
  },
  {
   "cell_type": "markdown",
   "metadata": {
    "collapsed": false
   },
   "source": [
    "### **1.3.** Какой в этом биологический смысл?"
   ]
  },
  {
   "cell_type": "markdown",
   "metadata": {
    "collapsed": false
   },
   "source": [
    "Перекрёстно-опылённые и само-опылённые растения качественно различаются, т.е. тип опыления влияет на растение"
   ]
  },
  {
   "cell_type": "markdown",
   "metadata": {
    "collapsed": false
   },
   "source": [
    "# Задание 2"
   ]
  },
  {
   "cell_type": "markdown",
   "metadata": {},
   "source": [
    "Вам представлены данные US National Health Inteview Survey за 1994 год с детальной информацией о 17870 работниках. Глобальная задача: исследовать зависимость между двумя неочевидными характеристиками: ростом и доходом."
   ]
  },
  {
   "cell_type": "code",
   "execution_count": 8,
   "metadata": {
    "collapsed": false
   },
   "outputs": [],
   "source": [
    "ALPHA = 0.005"
   ]
  },
  {
   "cell_type": "markdown",
   "metadata": {
    "collapsed": false
   },
   "source": [
    "### **2.1.1.** Откроем файл с данными:"
   ]
  },
  {
   "cell_type": "code",
   "execution_count": 9,
   "metadata": {
    "collapsed": false
   },
   "outputs": [],
   "source": [
    "df_second = pd.read_excel(\"data/Earnings_and_Height.xlsx\")"
   ]
  },
  {
   "cell_type": "markdown",
   "metadata": {
    "collapsed": false
   },
   "source": [
    "### **2.1.2.** Посмотрим на наши данные:"
   ]
  },
  {
   "cell_type": "code",
   "execution_count": 10,
   "metadata": {
    "collapsed": false
   },
   "outputs": [
    {
     "name": "stdout",
     "output_type": "stream",
     "text": [
      "       sex  age  mrd  educ  cworker  region  race      earnings  height  \\\n",
      "0        0   48    1    13        1       3     1  84054.750000      65   \n",
      "1        0   41    6    12        1       2     1  14021.394531      65   \n",
      "2        0   26    1    16        1       1     1  84054.750000      60   \n",
      "3        0   37    1    16        1       2     1  84054.750000      67   \n",
      "4        0   35    6    16        1       1     1  28560.386719      68   \n",
      "...    ...  ...  ...   ...      ...     ...   ...           ...     ...   \n",
      "17865    1   47    6    12        1       1     1  18168.841797      70   \n",
      "17866    1   44    1    12        2       4     1  84054.750000      74   \n",
      "17867    1   30    1    12        1       3     1  16081.587891      65   \n",
      "17868    1   46    3    12        4       4     1  84054.750000      68   \n",
      "17869    1   37    4     9        6       2     1  12954.765625      68   \n",
      "\n",
      "       weight  occupation  \n",
      "0         133           1  \n",
      "1         155           1  \n",
      "2         108           1  \n",
      "3         150           1  \n",
      "4         180           1  \n",
      "...       ...         ...  \n",
      "17865     150          15  \n",
      "17866     230          15  \n",
      "17867     162          15  \n",
      "17868     190          15  \n",
      "17869     150          15  \n",
      "\n",
      "[17870 rows x 11 columns]\n"
     ]
    }
   ],
   "source": [
    "print(df_second)"
   ]
  },
  {
   "cell_type": "markdown",
   "metadata": {
    "collapsed": false
   },
   "source": [
    "### **2.1.3.** Построим гистограммы (распределения) для столбцов, соответствующих росту и доходу:"
   ]
  },
  {
   "cell_type": "code",
   "execution_count": 11,
   "metadata": {
    "collapsed": false
   },
   "outputs": [
    {
     "data": {
      "image/png": "[encoded data removed]",
      "text/plain": [
       "<Figure size 2500x800 with 2 Axes>"
      ]
     },
     "metadata": {},
     "output_type": "display_data"
    }
   ],
   "source": [
    "fig, axes = plt.subplots(1, 2, figsize=(25, 8))\n",
    "df_second.hist([\"height\", \"earnings\"], figsize=(15, 5), density=True, ax=axes)\n",
    "fig.suptitle(\"Densities of the height and the earnings\")\n",
    "axes[0].set(title=\"Height density\", xlabel='Height (in inches)', ylabel='Density')\n",
    "axes[1].set(title=\"Earnings density\", xlabel='Earnings (in USD)', ylabel='Density')\n",
    "plt.show()"
   ]
  },
  {
   "cell_type": "markdown",
   "metadata": {
    "collapsed": false
   },
   "source": [
    "Распределение роста людей как будто бы распределено нормально, как и распределение доходов (без учёта выбросов)."
   ]
  },
  {
   "cell_type": "markdown",
   "metadata": {
    "collapsed": false
   },
   "source": [
    "### **2.2.** Проверим гипотезу:"
   ]
  },
  {
   "cell_type": "markdown",
   "metadata": {
    "collapsed": false
   },
   "source": [
    "Пусть $(X_i, Y_i)$ - выборка из двумерных векторов, где $X_i$ - рост человека, а $Y_i$ - его заработок.\n",
    "\n",
    "Проверим гипотезу:\n",
    "- $H_0: X_i, Y_i \\text{ независимы}$\n",
    "- $H_1: X_i, Y_i \\text{ зависимы}$\n",
    "\n",
    "на уровне значимости $\\alpha = 0.05$"
   ]
  },
  {
   "cell_type": "markdown",
   "metadata": {
    "collapsed": false
   },
   "source": [
    "#### Проверка гипотезы:"
   ]
  },
  {
   "cell_type": "markdown",
   "metadata": {
    "collapsed": false
   },
   "source": [
    "Для начала скопируем наш DataFrame в другое место, чтобы как-то его изменять:"
   ]
  },
  {
   "cell_type": "code",
   "execution_count": 12,
   "metadata": {
    "collapsed": false
   },
   "outputs": [],
   "source": [
    "df_1 = df_second.copy()"
   ]
  },
  {
   "cell_type": "markdown",
   "metadata": {
    "collapsed": false
   },
   "source": [
    "Дискретизируем наше распределение: для роста сделаем бины вида $[20(i - 1), 20i)$, где $i \\in \\mathbb{N}$, для заработка - $[20000(i - 1), 20000i)$, где $i \\in \\mathbb{N}$."
   ]
  },
  {
   "cell_type": "code",
   "execution_count": 13,
   "metadata": {
    "collapsed": false
   },
   "outputs": [],
   "source": [
    "df_1['earnings'] = (df_1['earnings'] // 20000) * 20000\n",
    "df_1['height'] = (df_1['height'] // 10) * 10"
   ]
  },
  {
   "cell_type": "markdown",
   "metadata": {
    "collapsed": false
   },
   "source": [
    "Построим таблицу сопряжённости для нашего распределения (нас интересует только столбцы earnings и height) и посмотрим на неё:"
   ]
  },
  {
   "cell_type": "code",
   "execution_count": 14,
   "metadata": {
    "collapsed": false
   },
   "outputs": [
    {
     "name": "stdout",
     "output_type": "stream",
     "text": [
      "height    40  50    60    70  80\n",
      "earnings                        \n",
      "0.0        2  43  2149   585   0\n",
      "20000.0    1  89  4950  1842   3\n",
      "40000.0    0  37  1800   803   0\n",
      "80000.0    1  49  3669  1843   4\n"
     ]
    }
   ],
   "source": [
    "idk = pd.crosstab(index=df_1['earnings'], columns=df_1['height'])\n",
    "print(idk)"
   ]
  },
  {
   "cell_type": "markdown",
   "metadata": {
    "collapsed": false
   },
   "source": [
    "Видим, что людей с ростом $[40, 50)$ и $[80, 90)$ мало (каждый из элементов в столбцах, которые соответствуют этим бинам, меньше 5 - частоты элементов маловаты, чтобы применять хи-квадрат Пирсона), поэтому просто выкинем эти столбцы:"
   ]
  },
  {
   "cell_type": "code",
   "execution_count": 15,
   "metadata": {
    "collapsed": false
   },
   "outputs": [
    {
     "name": "stdout",
     "output_type": "stream",
     "text": [
      "height    50    60    70\n",
      "earnings                \n",
      "0.0       43  2149   585\n",
      "20000.0   89  4950  1842\n",
      "40000.0   37  1800   803\n",
      "80000.0   49  3669  1843\n"
     ]
    }
   ],
   "source": [
    "print(idk[idk >= 5].dropna(axis=1))"
   ]
  },
  {
   "cell_type": "markdown",
   "metadata": {
    "collapsed": false
   },
   "source": [
    "Теперь можем применять тест хи-квадрат Пирсона для проверки независимости компонентов вектора:"
   ]
  },
  {
   "cell_type": "code",
   "execution_count": 16,
   "metadata": {
    "collapsed": false
   },
   "outputs": [
    {
     "name": "stdout",
     "output_type": "stream",
     "text": [
      "P-value is: 9.13009956991934e-31\n",
      "Significance level is: 0.005\n"
     ]
    }
   ],
   "source": [
    "print(\"P-value is:\", chi2_contingency(idk[idk >= 5].dropna(axis=1)).pvalue)\n",
    "print(\"Significance level is:\", ALPHA)"
   ]
  },
  {
   "cell_type": "markdown",
   "metadata": {
    "collapsed": false
   },
   "source": [
    "P-value крайне маленький... Отвергаем гипотезу."
   ]
  },
  {
   "cell_type": "markdown",
   "metadata": {
    "collapsed": false
   },
   "source": [
    "#### Какие выводы и какая интуиция стоит под этим?"
   ]
  },
  {
   "cell_type": "markdown",
   "metadata": {
    "collapsed": false
   },
   "source": [
    "- Люди могут привирать и завышать свой рост/достаток\n",
    "- Более высокие люди могут казаться более харизматичными, вследствие чего они могут \"выбивать\" себе зарплату выше\n",
    "- Ввиду аномально низкого p-value можно предположить, что кто-то подтасовал данные"
   ]
  },
  {
   "cell_type": "markdown",
   "metadata": {
    "collapsed": false
   },
   "source": [
    "# Задание 3"
   ]
  },
  {
   "cell_type": "markdown",
   "metadata": {},
   "source": [
    "Вам представлены данные опросов учеников средней школы, изучающих математику. Глобальная задача: понять, существуют ли отличия между средней итоговой оценкой мальчиков и девочек."
   ]
  },
  {
   "cell_type": "code",
   "execution_count": 17,
   "metadata": {
    "collapsed": false
   },
   "outputs": [],
   "source": [
    "ALPHA = 0.05"
   ]
  },
  {
   "cell_type": "markdown",
   "metadata": {
    "collapsed": false
   },
   "source": [
    "### **3.1.1.** Откроем файл с данными:"
   ]
  },
  {
   "cell_type": "code",
   "execution_count": 18,
   "metadata": {
    "collapsed": false
   },
   "outputs": [],
   "source": [
    "df_3 = pd.read_csv(\"data/student-mat.csv\")"
   ]
  },
  {
   "cell_type": "markdown",
   "metadata": {
    "collapsed": false
   },
   "source": [
    "### **3.1.2.** Посмотрим на наши данные:"
   ]
  },
  {
   "cell_type": "code",
   "execution_count": 19,
   "metadata": {
    "collapsed": false
   },
   "outputs": [
    {
     "name": "stdout",
     "output_type": "stream",
     "text": [
      "    school sex  age address famsize Pstatus  Medu  Fedu      Mjob      Fjob  \\\n",
      "0       GP   F   18       U     GT3       A     4     4   at_home   teacher   \n",
      "1       GP   F   17       U     GT3       T     1     1   at_home     other   \n",
      "2       GP   F   15       U     LE3       T     1     1   at_home     other   \n",
      "3       GP   F   15       U     GT3       T     4     2    health  services   \n",
      "4       GP   F   16       U     GT3       T     3     3     other     other   \n",
      "..     ...  ..  ...     ...     ...     ...   ...   ...       ...       ...   \n",
      "390     MS   M   20       U     LE3       A     2     2  services  services   \n",
      "391     MS   M   17       U     LE3       T     3     1  services  services   \n",
      "392     MS   M   21       R     GT3       T     1     1     other     other   \n",
      "393     MS   M   18       R     LE3       T     3     2  services     other   \n",
      "394     MS   M   19       U     LE3       T     1     1     other   at_home   \n",
      "\n",
      "     ... famrel freetime  goout  Dalc  Walc health absences  G1  G2  G3  \n",
      "0    ...      4        3      4     1     1      3        6   5   6   6  \n",
      "1    ...      5        3      3     1     1      3        4   5   5   6  \n",
      "2    ...      4        3      2     2     3      3       10   7   8  10  \n",
      "3    ...      3        2      2     1     1      5        2  15  14  15  \n",
      "4    ...      4        3      2     1     2      5        4   6  10  10  \n",
      "..   ...    ...      ...    ...   ...   ...    ...      ...  ..  ..  ..  \n",
      "390  ...      5        5      4     4     5      4       11   9   9   9  \n",
      "391  ...      2        4      5     3     4      2        3  14  16  16  \n",
      "392  ...      5        5      3     3     3      3        3  10   8   7  \n",
      "393  ...      4        4      1     3     4      5        0  11  12  10  \n",
      "394  ...      3        2      3     3     3      5        5   8   9   9  \n",
      "\n",
      "[395 rows x 33 columns]\n"
     ]
    }
   ],
   "source": [
    "print(df_3)"
   ]
  },
  {
   "cell_type": "markdown",
   "metadata": {
    "collapsed": false
   },
   "source": [
    "### **3.1.3.** Построим гистограммы, где отображены распределения оценок мальчиков и девочек:"
   ]
  },
  {
   "cell_type": "code",
   "execution_count": 20,
   "metadata": {
    "collapsed": false
   },
   "outputs": [
    {
     "data": {
      "image/png": "[encoded data removed]",
      "text/plain": [
       "<Figure size 640x480 with 1 Axes>"
      ]
     },
     "metadata": {},
     "output_type": "display_data"
    }
   ],
   "source": [
    "girls_grades = df_3[df_3[\"sex\"] == 'F'][\"G3\"].value_counts()\n",
    "boys_grades = df_3[df_3[\"sex\"] == 'M'][\"G3\"].value_counts()\n",
    "df_with_grades = pd.concat([girls_grades / girls_grades.sum(), boys_grades / boys_grades.sum()], axis=1).fillna(0.0)\n",
    "df_with_grades = df_with_grades.sort_index(axis=0).astype(dtype='float')\n",
    "ax = df_with_grades.plot.bar()\n",
    "ax.legend(title=\"Grades density\", labels=[f\"Girls\", \"Boys\"])\n",
    "plt.title(\"Densities of the grades of the test\")\n",
    "plt.xlabel(\"Grade\")\n",
    "plt.ylabel(\"Density\")\n",
    "plt.show()"
   ]
  },
  {
   "cell_type": "markdown",
   "metadata": {
    "collapsed": false
   },
   "source": [
    "Есть выбросы в районе нуля.\n",
    "Уберём из выборки все оценки, равные нулю, и посмотрим на получившееся распределение выборок:"
   ]
  },
  {
   "cell_type": "code",
   "execution_count": 21,
   "metadata": {
    "collapsed": false
   },
   "outputs": [
    {
     "data": {
      "image/png": "[encoded data removed]",
      "text/plain": [
       "<Figure size 640x480 with 1 Axes>"
      ]
     },
     "metadata": {},
     "output_type": "display_data"
    }
   ],
   "source": [
    "ax = df_with_grades.drop(0, axis=0).plot.bar()\n",
    "# df_with_grades.transpose().plot.density(ax=ax)\n",
    "ax.legend(title=\"Grades density\", labels=[f\"Girls\", \"Boys\"])\n",
    "plt.title(\"Densities of the grades of the test (w/ cleared outliers)\")\n",
    "plt.xlabel(\"Grade\")\n",
    "plt.ylabel(\"Density\")\n",
    "plt.show()\n",
    "plt.show()"
   ]
  },
  {
   "cell_type": "markdown",
   "metadata": {
    "collapsed": false
   },
   "source": [
    "Вполне нормально."
   ]
  },
  {
   "cell_type": "markdown",
   "metadata": {
    "collapsed": false
   },
   "source": [
    "### **3.2.** Проверим гипотезу о равенстве средних баллов среди мальчиков и девочек:"
   ]
  },
  {
   "cell_type": "markdown",
   "metadata": {
    "collapsed": false
   },
   "source": [
    "Пусть $X_i$ - выборка оценок мальчиков, $Y_i$ - выборка оценок девочек.\n",
    "\n",
    "Проверим гипотезу:\n",
    "- $H_0: \\mathbb{E}X_i = \\mathbb{E}Y_i$\n",
    "- $H_1: \\mathbb{E}X_i \\neq \\mathbb{E}Y_i$\n",
    "\n",
    "на уровне значимости $\\alpha = 0.05$"
   ]
  },
  {
   "cell_type": "markdown",
   "metadata": {
    "collapsed": false
   },
   "source": [
    "#### Проверка гипотезы:"
   ]
  },
  {
   "cell_type": "markdown",
   "metadata": {
    "collapsed": false
   },
   "source": [
    "Возьмём наши выборки, очистим их от нулей (от выбросов, про которые мы говорили ранее)."
   ]
  },
  {
   "cell_type": "code",
   "execution_count": 22,
   "metadata": {
    "collapsed": false
   },
   "outputs": [],
   "source": [
    "df_boys_cleaned = df_3[(df_3[\"sex\"] == 'M') & (df_3[\"G3\"] != 0)][\"G3\"].astype(dtype='float')\n",
    "df_girls_cleaned = df_3[(df_3[\"sex\"] == 'F') & (df_3[\"G3\"] != 0)][\"G3\"].astype(dtype='float')"
   ]
  },
  {
   "cell_type": "markdown",
   "metadata": {
    "collapsed": false
   },
   "source": [
    "Проведём t-тест для определения равенства матожиданий распределения оценок мальчиков и девочек:"
   ]
  },
  {
   "cell_type": "code",
   "execution_count": 23,
   "metadata": {
    "collapsed": false
   },
   "outputs": [
    {
     "name": "stdout",
     "output_type": "stream",
     "text": [
      "P-value is: 0.0531131748457915\n",
      "Significance level is: 0.05\n"
     ]
    }
   ],
   "source": [
    "print(\"P-value is:\", ttest_ind(df_boys_cleaned, df_girls_cleaned).pvalue)\n",
    "print(\"Significance level is:\", ALPHA)"
   ]
  },
  {
   "cell_type": "markdown",
   "metadata": {
    "collapsed": false
   },
   "source": [
    "P-value выше уровня значимости (0.05), значит, мы принимаем гипотезу."
   ]
  },
  {
   "cell_type": "markdown",
   "metadata": {
    "collapsed": false
   },
   "source": [
    "#### Выводы:"
   ]
  },
  {
   "cell_type": "markdown",
   "metadata": {
    "collapsed": false
   },
   "source": [
    "Оценка не определяется полом, а предрасположенностью к точным наукам и усилиями, затраченными на учёбу."
   ]
  },
  {
   "cell_type": "markdown",
   "metadata": {
    "collapsed": false
   },
   "source": [
    "### **3.2.1.** Доказательство t-теста при верной нулевой гипотезе:"
   ]
  },
  {
   "cell_type": "markdown",
   "metadata": {
    "collapsed": false
   },
   "source": [
    "Пусть $X_i \\sim \\mathcal{N}(\\mu_1, \\sigma^2), Y_j \\sim \\mathcal{N}(\\mu_2, \\sigma^2)$, и мы считаем, что нулевая гипотеза верна, т.е. $\\mu_1 = \\mu_2 = \\mu$. Пусть у нас $n$ элементов из $X$ и $m$ элементов из $Y$.\n",
    "\n",
    "Тогда мы знаем, что:\n",
    "- $\\overline{X} \\sim \\mathcal{N}\\left(\\mu, \\frac{\\sigma^2}{n}\\right), \\overline{Y} \\sim \\mathcal{N}\\left(\\mu, \\frac{\\sigma^2}{m}\\right) \\implies \\Delta = \\overline{X} - \\overline{Y} \\sim \\mathcal{N}\\left(\\mu, \\frac{\\sigma^2}{n} + \\frac{\\sigma^2}{m}\\right)$\n",
    "- $\\hat{\\sigma}_X^2 = \\sigma^2(n - 1)^{-1}\\sigma_X^2$, где $\\sigma_X^2 \\sim \\chi^2(n-1)$; $\\hat{\\sigma}_Y^2 = \\sigma^2(m - 1)^{-1}\\sigma_Y^2$, где $\\sigma_Y^2 \\sim \\chi^2(m-1)$\n",
    "\n",
    "Значит,\n",
    "\n",
    "$$\\frac{\\Delta}{\\sqrt{\\frac{\\sigma^2}{n} + \\frac{\\sigma^2}{m}}} = \\eta \\sim \\mathcal{N}(0, 1)$$\n",
    "\n",
    "Заметим, что тогда $$\\frac{(n-1)\\hat{\\sigma}_X^2 + (m-1)\\hat{\\sigma}_Y^2}{m + n - 2} = \\sigma^2 \\frac{\\sigma_X^2 + \\sigma_Y^2}{m + n - 2} = \\sigma^2 \\frac{\\xi}{m + n - 2}, \\text{ где } \\xi \\sim \\chi^2(m + n - 2)$$\n",
    "\n",
    "Перепишем данное нам выражение:\n",
    "\n",
    "$$\\frac{\\Delta}{s_{X, Y}\\sqrt{\\frac{1}{n} + \\frac{1}{m}}} = \\sqrt{\\frac{m + n - 2}{(n-1)\\hat{\\sigma}_X^2 + (m-1)\\hat{\\sigma}_Y^2}} \\frac{\\Delta}{\\sqrt{\\frac{\\sigma^2}{n} + \\frac{\\sigma^2}{m}}} = \\frac{\\eta}{\\sqrt{\\frac{\\xi}{m + n - 2}}} \\sim t(m + n - 2) (\\text{т.к. }\\eta \\sim \\mathcal{N}(0, 1), \\xi \\sim \\chi^2(m + n - 2))$$\n",
    "\n",
    "Значит, при верности нулевой гипотезы данная статистика распределена согласно t-распределению Стьюдента с $(m + n - 2)$ степенями свободы.\n",
    "\n",
    "Доказано."
   ]
  },
  {
   "cell_type": "code",
   "execution_count": 23,
   "metadata": {
    "collapsed": false
   },
   "outputs": [],
   "source": []
  }
 ],
 "metadata": {
  "kernelspec": {
   "display_name": "Python 3",
   "language": "python",
   "name": "python3"
  },
  "language_info": {
   "codemirror_mode": {
    "name": "ipython",
    "version": 2
   },
   "file_extension": ".py",
   "mimetype": "text/x-python",
   "name": "python",
   "nbconvert_exporter": "python",
   "pygments_lexer": "ipython2",
   "version": "2.7.6"
  }
 },
 "nbformat": 4,
 "nbformat_minor": 0
}
